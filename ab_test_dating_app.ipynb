{
 "cells": [
  {
   "cell_type": "markdown",
   "metadata": {},
   "source": [
    "# Проект: вариант 3"
   ]
  },
  {
   "cell_type": "code",
   "execution_count": 1,
   "metadata": {},
   "outputs": [],
   "source": [
    "import pandas as pd\n",
    "import pingouin as pg\n",
    "from scipy.stats import kruskal, chi2_contingency\n",
    "import matplotlib.pyplot as plt\n",
    "import matplotlib.dates as mdates\n",
    "from statsmodels.stats.proportion import proportions_ztest\n",
    "import numpy as np"
   ]
  },
  {
   "cell_type": "markdown",
   "metadata": {},
   "source": [
    "## Данные\n",
    "Всего есть три группы: тестовая (test), контрольная 1 (control_1) и контрольная 2 (control_2). Для каждой из них:"
   ]
  },
  {
   "cell_type": "markdown",
   "metadata": {},
   "source": [
    "### users_*.csv – информация о пользователях:\n",
    "\n",
    "- uid – идентификатор пользователя\n",
    "- age – возраст\n",
    "- attraction_coeff – коэффициент привлекательности (от 0 до 1000, $\\frac{лайки}{просмотры}$*1000)\n",
    "- coins – число монеток (внутренняя валюта)\n",
    "- country – страна  \n",
    "- visit_days – в какие дни после регистрации пользователь посещал приложение (напр. в 1, затем в 7)\n",
    "- gender – пол\n",
    "- age_filter_start  – фильтр поиска, мин. значение \n",
    "- age_filter_end  – фильтр поиска, макс. значение \n",
    "- views_count – число полученных оценок \n",
    "- was_premium – был ли когда-либо премиум (либо пробный период премиум-статуса, либо купленный за деньги)\n",
    "- is_premium –  является ли премиум\n",
    "- total_revenue – нормированная выручка "
   ]
  },
  {
   "cell_type": "markdown",
   "metadata": {},
   "source": [
    "#### users_test – информация о пользователях в тестовой группе. "
   ]
  },
  {
   "cell_type": "code",
   "execution_count": 2,
   "metadata": {},
   "outputs": [
    {
     "data": {
      "text/html": [
       "<div>\n",
       "<style scoped>\n",
       "    .dataframe tbody tr th:only-of-type {\n",
       "        vertical-align: middle;\n",
       "    }\n",
       "\n",
       "    .dataframe tbody tr th {\n",
       "        vertical-align: top;\n",
       "    }\n",
       "\n",
       "    .dataframe thead th {\n",
       "        text-align: right;\n",
       "    }\n",
       "</style>\n",
       "<table border=\"1\" class=\"dataframe\">\n",
       "  <thead>\n",
       "    <tr style=\"text-align: right;\">\n",
       "      <th></th>\n",
       "      <th>uid</th>\n",
       "      <th>age</th>\n",
       "      <th>attraction_coeff</th>\n",
       "      <th>coins</th>\n",
       "      <th>country</th>\n",
       "      <th>visit_days</th>\n",
       "      <th>gender</th>\n",
       "      <th>age_filter_start</th>\n",
       "      <th>age_filter_end</th>\n",
       "      <th>views_count</th>\n",
       "      <th>was_premium</th>\n",
       "      <th>is_premium</th>\n",
       "      <th>total_revenue</th>\n",
       "    </tr>\n",
       "  </thead>\n",
       "  <tbody>\n",
       "    <tr>\n",
       "      <th>0</th>\n",
       "      <td>892309896</td>\n",
       "      <td>27</td>\n",
       "      <td>685</td>\n",
       "      <td>NaN</td>\n",
       "      <td>United States of America</td>\n",
       "      <td>1,2,3,4,5,6,7,8,9,10,11,12,16,17</td>\n",
       "      <td>1</td>\n",
       "      <td>24</td>\n",
       "      <td>30</td>\n",
       "      <td>89</td>\n",
       "      <td>NaN</td>\n",
       "      <td>NaN</td>\n",
       "      <td>0</td>\n",
       "    </tr>\n",
       "    <tr>\n",
       "      <th>1</th>\n",
       "      <td>892044516</td>\n",
       "      <td>27</td>\n",
       "      <td>0</td>\n",
       "      <td>NaN</td>\n",
       "      <td>Germany</td>\n",
       "      <td>NaN</td>\n",
       "      <td>1</td>\n",
       "      <td>24</td>\n",
       "      <td>30</td>\n",
       "      <td>0</td>\n",
       "      <td>NaN</td>\n",
       "      <td>NaN</td>\n",
       "      <td>0</td>\n",
       "    </tr>\n",
       "    <tr>\n",
       "      <th>2</th>\n",
       "      <td>892185708</td>\n",
       "      <td>45</td>\n",
       "      <td>44</td>\n",
       "      <td>NaN</td>\n",
       "      <td>Israel</td>\n",
       "      <td>1,3,4,6,7,8,10,11,12,13,14,15,16,17,18,19,20,2...</td>\n",
       "      <td>1</td>\n",
       "      <td>42</td>\n",
       "      <td>48</td>\n",
       "      <td>68</td>\n",
       "      <td>NaN</td>\n",
       "      <td>NaN</td>\n",
       "      <td>0</td>\n",
       "    </tr>\n",
       "    <tr>\n",
       "      <th>3</th>\n",
       "      <td>892130292</td>\n",
       "      <td>32</td>\n",
       "      <td>0</td>\n",
       "      <td>NaN</td>\n",
       "      <td>United States of America</td>\n",
       "      <td>1,2,3,4,5,6,7,8,9,10,11,12</td>\n",
       "      <td>1</td>\n",
       "      <td>29</td>\n",
       "      <td>35</td>\n",
       "      <td>0</td>\n",
       "      <td>NaN</td>\n",
       "      <td>NaN</td>\n",
       "      <td>0</td>\n",
       "    </tr>\n",
       "    <tr>\n",
       "      <th>4</th>\n",
       "      <td>891406035</td>\n",
       "      <td>27</td>\n",
       "      <td>1000</td>\n",
       "      <td>NaN</td>\n",
       "      <td>France</td>\n",
       "      <td>NaN</td>\n",
       "      <td>1</td>\n",
       "      <td>24</td>\n",
       "      <td>30</td>\n",
       "      <td>1</td>\n",
       "      <td>1.0</td>\n",
       "      <td>NaN</td>\n",
       "      <td>0</td>\n",
       "    </tr>\n",
       "  </tbody>\n",
       "</table>\n",
       "</div>"
      ],
      "text/plain": [
       "         uid  age  attraction_coeff  coins                   country  \\\n",
       "0  892309896   27               685    NaN  United States of America   \n",
       "1  892044516   27                 0    NaN                   Germany   \n",
       "2  892185708   45                44    NaN                    Israel   \n",
       "3  892130292   32                 0    NaN  United States of America   \n",
       "4  891406035   27              1000    NaN                    France   \n",
       "\n",
       "                                          visit_days  gender  \\\n",
       "0                   1,2,3,4,5,6,7,8,9,10,11,12,16,17       1   \n",
       "1                                                NaN       1   \n",
       "2  1,3,4,6,7,8,10,11,12,13,14,15,16,17,18,19,20,2...       1   \n",
       "3                         1,2,3,4,5,6,7,8,9,10,11,12       1   \n",
       "4                                                NaN       1   \n",
       "\n",
       "   age_filter_start  age_filter_end  views_count  was_premium  is_premium  \\\n",
       "0                24              30           89          NaN         NaN   \n",
       "1                24              30            0          NaN         NaN   \n",
       "2                42              48           68          NaN         NaN   \n",
       "3                29              35            0          NaN         NaN   \n",
       "4                24              30            1          1.0         NaN   \n",
       "\n",
       "   total_revenue  \n",
       "0              0  \n",
       "1              0  \n",
       "2              0  \n",
       "3              0  \n",
       "4              0  "
      ]
     },
     "execution_count": 2,
     "metadata": {},
     "output_type": "execute_result"
    }
   ],
   "source": [
    "users_test = pd.read_csv('Проект_3_users_test.csv', sep=';')\n",
    "users_test.head()"
   ]
  },
  {
   "cell_type": "markdown",
   "metadata": {},
   "source": [
    "#### users_control_1 – информация о пользователях в первой контрольной группе."
   ]
  },
  {
   "cell_type": "code",
   "execution_count": 3,
   "metadata": {},
   "outputs": [
    {
     "data": {
      "text/html": [
       "<div>\n",
       "<style scoped>\n",
       "    .dataframe tbody tr th:only-of-type {\n",
       "        vertical-align: middle;\n",
       "    }\n",
       "\n",
       "    .dataframe tbody tr th {\n",
       "        vertical-align: top;\n",
       "    }\n",
       "\n",
       "    .dataframe thead th {\n",
       "        text-align: right;\n",
       "    }\n",
       "</style>\n",
       "<table border=\"1\" class=\"dataframe\">\n",
       "  <thead>\n",
       "    <tr style=\"text-align: right;\">\n",
       "      <th></th>\n",
       "      <th>uid</th>\n",
       "      <th>age</th>\n",
       "      <th>attraction_coeff</th>\n",
       "      <th>coins</th>\n",
       "      <th>country</th>\n",
       "      <th>visit_days</th>\n",
       "      <th>gender</th>\n",
       "      <th>age_filter_start</th>\n",
       "      <th>age_filter_end</th>\n",
       "      <th>views_count</th>\n",
       "      <th>was_premium</th>\n",
       "      <th>is_premium</th>\n",
       "      <th>total_revenue</th>\n",
       "    </tr>\n",
       "  </thead>\n",
       "  <tbody>\n",
       "    <tr>\n",
       "      <th>0</th>\n",
       "      <td>892319115</td>\n",
       "      <td>25</td>\n",
       "      <td>435</td>\n",
       "      <td>NaN</td>\n",
       "      <td>United States of America</td>\n",
       "      <td>1,2,3,4,5,6</td>\n",
       "      <td>0</td>\n",
       "      <td>22</td>\n",
       "      <td>32</td>\n",
       "      <td>982</td>\n",
       "      <td>NaN</td>\n",
       "      <td>NaN</td>\n",
       "      <td>0</td>\n",
       "    </tr>\n",
       "    <tr>\n",
       "      <th>1</th>\n",
       "      <td>891248523</td>\n",
       "      <td>29</td>\n",
       "      <td>500</td>\n",
       "      <td>NaN</td>\n",
       "      <td>United States of America</td>\n",
       "      <td>1,2</td>\n",
       "      <td>1</td>\n",
       "      <td>26</td>\n",
       "      <td>32</td>\n",
       "      <td>12</td>\n",
       "      <td>NaN</td>\n",
       "      <td>NaN</td>\n",
       "      <td>0</td>\n",
       "    </tr>\n",
       "    <tr>\n",
       "      <th>2</th>\n",
       "      <td>891670932</td>\n",
       "      <td>33</td>\n",
       "      <td>800</td>\n",
       "      <td>NaN</td>\n",
       "      <td>France</td>\n",
       "      <td>1,2,3,5,6,8,9,11,13,16</td>\n",
       "      <td>1</td>\n",
       "      <td>30</td>\n",
       "      <td>36</td>\n",
       "      <td>5</td>\n",
       "      <td>NaN</td>\n",
       "      <td>NaN</td>\n",
       "      <td>0</td>\n",
       "    </tr>\n",
       "    <tr>\n",
       "      <th>3</th>\n",
       "      <td>891060786</td>\n",
       "      <td>26</td>\n",
       "      <td>0</td>\n",
       "      <td>NaN</td>\n",
       "      <td>Argentina</td>\n",
       "      <td>1,2,3,4,5</td>\n",
       "      <td>1</td>\n",
       "      <td>23</td>\n",
       "      <td>29</td>\n",
       "      <td>0</td>\n",
       "      <td>NaN</td>\n",
       "      <td>NaN</td>\n",
       "      <td>0</td>\n",
       "    </tr>\n",
       "    <tr>\n",
       "      <th>4</th>\n",
       "      <td>892006554</td>\n",
       "      <td>35</td>\n",
       "      <td>294</td>\n",
       "      <td>NaN</td>\n",
       "      <td>United States of America</td>\n",
       "      <td>1,2,3,5,6,7,8,9,10,12,15,16,17,19</td>\n",
       "      <td>1</td>\n",
       "      <td>30</td>\n",
       "      <td>40</td>\n",
       "      <td>17</td>\n",
       "      <td>NaN</td>\n",
       "      <td>NaN</td>\n",
       "      <td>0</td>\n",
       "    </tr>\n",
       "  </tbody>\n",
       "</table>\n",
       "</div>"
      ],
      "text/plain": [
       "         uid  age  attraction_coeff  coins                   country  \\\n",
       "0  892319115   25               435    NaN  United States of America   \n",
       "1  891248523   29               500    NaN  United States of America   \n",
       "2  891670932   33               800    NaN                    France   \n",
       "3  891060786   26                 0    NaN                 Argentina   \n",
       "4  892006554   35               294    NaN  United States of America   \n",
       "\n",
       "                          visit_days  gender  age_filter_start  \\\n",
       "0                        1,2,3,4,5,6       0                22   \n",
       "1                                1,2       1                26   \n",
       "2             1,2,3,5,6,8,9,11,13,16       1                30   \n",
       "3                          1,2,3,4,5       1                23   \n",
       "4  1,2,3,5,6,7,8,9,10,12,15,16,17,19       1                30   \n",
       "\n",
       "   age_filter_end  views_count  was_premium  is_premium  total_revenue  \n",
       "0              32          982          NaN         NaN              0  \n",
       "1              32           12          NaN         NaN              0  \n",
       "2              36            5          NaN         NaN              0  \n",
       "3              29            0          NaN         NaN              0  \n",
       "4              40           17          NaN         NaN              0  "
      ]
     },
     "execution_count": 3,
     "metadata": {},
     "output_type": "execute_result"
    }
   ],
   "source": [
    "users_control_1 = pd.read_csv('Проект_3_users_control_1.csv', sep=';')\n",
    "users_control_1.head()"
   ]
  },
  {
   "cell_type": "markdown",
   "metadata": {},
   "source": [
    "#### users_control_2 – информация о пользователях во второй контрольной группе . "
   ]
  },
  {
   "cell_type": "code",
   "execution_count": 4,
   "metadata": {},
   "outputs": [
    {
     "data": {
      "text/html": [
       "<div>\n",
       "<style scoped>\n",
       "    .dataframe tbody tr th:only-of-type {\n",
       "        vertical-align: middle;\n",
       "    }\n",
       "\n",
       "    .dataframe tbody tr th {\n",
       "        vertical-align: top;\n",
       "    }\n",
       "\n",
       "    .dataframe thead th {\n",
       "        text-align: right;\n",
       "    }\n",
       "</style>\n",
       "<table border=\"1\" class=\"dataframe\">\n",
       "  <thead>\n",
       "    <tr style=\"text-align: right;\">\n",
       "      <th></th>\n",
       "      <th>uid</th>\n",
       "      <th>age</th>\n",
       "      <th>attraction_coeff</th>\n",
       "      <th>coins</th>\n",
       "      <th>country</th>\n",
       "      <th>visit_days</th>\n",
       "      <th>gender</th>\n",
       "      <th>age_filter_start</th>\n",
       "      <th>age_filter_end</th>\n",
       "      <th>views_count</th>\n",
       "      <th>was_premium</th>\n",
       "      <th>is_premium</th>\n",
       "      <th>total_revenue</th>\n",
       "    </tr>\n",
       "  </thead>\n",
       "  <tbody>\n",
       "    <tr>\n",
       "      <th>0</th>\n",
       "      <td>892035504</td>\n",
       "      <td>37</td>\n",
       "      <td>137</td>\n",
       "      <td>NaN</td>\n",
       "      <td>Israel</td>\n",
       "      <td>1,2,3,4,5,6,7,8,9,11,13</td>\n",
       "      <td>1</td>\n",
       "      <td>30</td>\n",
       "      <td>40</td>\n",
       "      <td>51</td>\n",
       "      <td>NaN</td>\n",
       "      <td>NaN</td>\n",
       "      <td>0</td>\n",
       "    </tr>\n",
       "    <tr>\n",
       "      <th>1</th>\n",
       "      <td>891782112</td>\n",
       "      <td>57</td>\n",
       "      <td>0</td>\n",
       "      <td>NaN</td>\n",
       "      <td>Italy</td>\n",
       "      <td>1</td>\n",
       "      <td>1</td>\n",
       "      <td>54</td>\n",
       "      <td>60</td>\n",
       "      <td>0</td>\n",
       "      <td>NaN</td>\n",
       "      <td>NaN</td>\n",
       "      <td>0</td>\n",
       "    </tr>\n",
       "    <tr>\n",
       "      <th>2</th>\n",
       "      <td>891110337</td>\n",
       "      <td>30</td>\n",
       "      <td>769</td>\n",
       "      <td>NaN</td>\n",
       "      <td>France</td>\n",
       "      <td>1,2,3,4,5</td>\n",
       "      <td>1</td>\n",
       "      <td>27</td>\n",
       "      <td>33</td>\n",
       "      <td>13</td>\n",
       "      <td>NaN</td>\n",
       "      <td>NaN</td>\n",
       "      <td>0</td>\n",
       "    </tr>\n",
       "    <tr>\n",
       "      <th>3</th>\n",
       "      <td>891796320</td>\n",
       "      <td>48</td>\n",
       "      <td>750</td>\n",
       "      <td>NaN</td>\n",
       "      <td>France</td>\n",
       "      <td>1,4,6,8,10,11,12,14,15,16,18</td>\n",
       "      <td>1</td>\n",
       "      <td>45</td>\n",
       "      <td>51</td>\n",
       "      <td>12</td>\n",
       "      <td>NaN</td>\n",
       "      <td>NaN</td>\n",
       "      <td>0</td>\n",
       "    </tr>\n",
       "    <tr>\n",
       "      <th>4</th>\n",
       "      <td>891880212</td>\n",
       "      <td>54</td>\n",
       "      <td>638</td>\n",
       "      <td>NaN</td>\n",
       "      <td>United States of America</td>\n",
       "      <td>1</td>\n",
       "      <td>1</td>\n",
       "      <td>35</td>\n",
       "      <td>53</td>\n",
       "      <td>94</td>\n",
       "      <td>NaN</td>\n",
       "      <td>NaN</td>\n",
       "      <td>0</td>\n",
       "    </tr>\n",
       "  </tbody>\n",
       "</table>\n",
       "</div>"
      ],
      "text/plain": [
       "         uid  age  attraction_coeff  coins                   country  \\\n",
       "0  892035504   37               137    NaN                    Israel   \n",
       "1  891782112   57                 0    NaN                     Italy   \n",
       "2  891110337   30               769    NaN                    France   \n",
       "3  891796320   48               750    NaN                    France   \n",
       "4  891880212   54               638    NaN  United States of America   \n",
       "\n",
       "                     visit_days  gender  age_filter_start  age_filter_end  \\\n",
       "0       1,2,3,4,5,6,7,8,9,11,13       1                30              40   \n",
       "1                             1       1                54              60   \n",
       "2                     1,2,3,4,5       1                27              33   \n",
       "3  1,4,6,8,10,11,12,14,15,16,18       1                45              51   \n",
       "4                             1       1                35              53   \n",
       "\n",
       "   views_count  was_premium  is_premium  total_revenue  \n",
       "0           51          NaN         NaN              0  \n",
       "1            0          NaN         NaN              0  \n",
       "2           13          NaN         NaN              0  \n",
       "3           12          NaN         NaN              0  \n",
       "4           94          NaN         NaN              0  "
      ]
     },
     "execution_count": 4,
     "metadata": {},
     "output_type": "execute_result"
    }
   ],
   "source": [
    "users_control_2 = pd.read_csv('Проект_3_users_control_2.csv', sep=';')\n",
    "users_control_2.head()"
   ]
  },
  {
   "cell_type": "markdown",
   "metadata": {},
   "source": [
    "### transactions_*.csv – информация о платежах пользователей:\n",
    "\n",
    "- uid – идентификатор пользователя\n",
    "- country – страна\n",
    "- joined_at – дата и время регистрации\n",
    "- paid_at – дата и время покупки\n",
    "- revenue – нормированная выручка\n",
    "- payment_id – идентификатор платежа\n",
    "- from_page – откуда пользователь перешел на страницу оплаты\n",
    "- product_type – тип продукта (trial_premium – пробная премиум-подписка, premium_no_trial – премиум-подписка без пробной, coins – подписка за внутреннюю валюту, other_type – другое) "
   ]
  },
  {
   "cell_type": "markdown",
   "metadata": {},
   "source": [
    "#### transactions_test – информация о платежах пользователей в тестовой группе. "
   ]
  },
  {
   "cell_type": "code",
   "execution_count": 5,
   "metadata": {},
   "outputs": [
    {
     "data": {
      "text/html": [
       "<div>\n",
       "<style scoped>\n",
       "    .dataframe tbody tr th:only-of-type {\n",
       "        vertical-align: middle;\n",
       "    }\n",
       "\n",
       "    .dataframe tbody tr th {\n",
       "        vertical-align: top;\n",
       "    }\n",
       "\n",
       "    .dataframe thead th {\n",
       "        text-align: right;\n",
       "    }\n",
       "</style>\n",
       "<table border=\"1\" class=\"dataframe\">\n",
       "  <thead>\n",
       "    <tr style=\"text-align: right;\">\n",
       "      <th></th>\n",
       "      <th>uid</th>\n",
       "      <th>country</th>\n",
       "      <th>joined_at</th>\n",
       "      <th>paid_at</th>\n",
       "      <th>revenue</th>\n",
       "      <th>payment_id</th>\n",
       "      <th>from_page</th>\n",
       "      <th>product_type</th>\n",
       "    </tr>\n",
       "  </thead>\n",
       "  <tbody>\n",
       "    <tr>\n",
       "      <th>0</th>\n",
       "      <td>891345942</td>\n",
       "      <td>Italy</td>\n",
       "      <td>2017-05-11 13:00:00</td>\n",
       "      <td>2017-11-13 15:04:00</td>\n",
       "      <td>12909</td>\n",
       "      <td>147</td>\n",
       "      <td>trial_vip_popup</td>\n",
       "      <td>trial_premium</td>\n",
       "    </tr>\n",
       "    <tr>\n",
       "      <th>1</th>\n",
       "      <td>892054251</td>\n",
       "      <td>United States of America</td>\n",
       "      <td>2017-10-22 00:33:00</td>\n",
       "      <td>2017-10-30 01:37:00</td>\n",
       "      <td>13923</td>\n",
       "      <td>147</td>\n",
       "      <td>trial_vip_popup</td>\n",
       "      <td>trial_premium</td>\n",
       "    </tr>\n",
       "    <tr>\n",
       "      <th>2</th>\n",
       "      <td>892236423</td>\n",
       "      <td>United States of America</td>\n",
       "      <td>2017-10-18 01:09:00</td>\n",
       "      <td>2017-10-23 00:15:00</td>\n",
       "      <td>3783</td>\n",
       "      <td>67</td>\n",
       "      <td>menu</td>\n",
       "      <td>other_type</td>\n",
       "    </tr>\n",
       "    <tr>\n",
       "      <th>3</th>\n",
       "      <td>892236423</td>\n",
       "      <td>United States of America</td>\n",
       "      <td>2017-10-18 01:09:00</td>\n",
       "      <td>2017-10-27 22:38:00</td>\n",
       "      <td>3783</td>\n",
       "      <td>67</td>\n",
       "      <td>menu</td>\n",
       "      <td>other_type</td>\n",
       "    </tr>\n",
       "    <tr>\n",
       "      <th>4</th>\n",
       "      <td>892168170</td>\n",
       "      <td>United States of America</td>\n",
       "      <td>2017-10-19 17:10:00</td>\n",
       "      <td>2017-10-27 19:10:00</td>\n",
       "      <td>9087</td>\n",
       "      <td>147</td>\n",
       "      <td>trial_vip_popup</td>\n",
       "      <td>trial_premium</td>\n",
       "    </tr>\n",
       "  </tbody>\n",
       "</table>\n",
       "</div>"
      ],
      "text/plain": [
       "         uid                   country            joined_at  \\\n",
       "0  891345942                     Italy  2017-05-11 13:00:00   \n",
       "1  892054251  United States of America  2017-10-22 00:33:00   \n",
       "2  892236423  United States of America  2017-10-18 01:09:00   \n",
       "3  892236423  United States of America  2017-10-18 01:09:00   \n",
       "4  892168170  United States of America  2017-10-19 17:10:00   \n",
       "\n",
       "               paid_at  revenue  payment_id        from_page   product_type  \n",
       "0  2017-11-13 15:04:00    12909         147  trial_vip_popup  trial_premium  \n",
       "1  2017-10-30 01:37:00    13923         147  trial_vip_popup  trial_premium  \n",
       "2  2017-10-23 00:15:00     3783          67             menu     other_type  \n",
       "3  2017-10-27 22:38:00     3783          67             menu     other_type  \n",
       "4  2017-10-27 19:10:00     9087         147  trial_vip_popup  trial_premium  "
      ]
     },
     "execution_count": 5,
     "metadata": {},
     "output_type": "execute_result"
    }
   ],
   "source": [
    "transactions_test = pd.read_csv('Проект_3_transactions_test.csv', sep=';')\n",
    "transactions_test.head()"
   ]
  },
  {
   "cell_type": "code",
   "execution_count": 6,
   "metadata": {},
   "outputs": [
    {
     "name": "stdout",
     "output_type": "stream",
     "text": [
      "<class 'pandas.core.frame.DataFrame'>\n",
      "RangeIndex: 273 entries, 0 to 272\n",
      "Data columns (total 8 columns):\n",
      " #   Column        Non-Null Count  Dtype \n",
      "---  ------        --------------  ----- \n",
      " 0   uid           273 non-null    int64 \n",
      " 1   country       273 non-null    object\n",
      " 2   joined_at     273 non-null    object\n",
      " 3   paid_at       273 non-null    object\n",
      " 4   revenue       273 non-null    int64 \n",
      " 5   payment_id    273 non-null    int64 \n",
      " 6   from_page     273 non-null    object\n",
      " 7   product_type  273 non-null    object\n",
      "dtypes: int64(3), object(5)\n",
      "memory usage: 17.2+ KB\n"
     ]
    }
   ],
   "source": [
    "transactions_test.info()"
   ]
  },
  {
   "cell_type": "code",
   "execution_count": 7,
   "metadata": {},
   "outputs": [],
   "source": [
    "transactions_test.joined_at = pd.to_datetime(transactions_test.joined_at)\n",
    "transactions_test.paid_at = pd.to_datetime(transactions_test.paid_at)"
   ]
  },
  {
   "cell_type": "code",
   "execution_count": 8,
   "metadata": {},
   "outputs": [
    {
     "name": "stdout",
     "output_type": "stream",
     "text": [
      "<class 'pandas.core.frame.DataFrame'>\n",
      "RangeIndex: 273 entries, 0 to 272\n",
      "Data columns (total 8 columns):\n",
      " #   Column        Non-Null Count  Dtype         \n",
      "---  ------        --------------  -----         \n",
      " 0   uid           273 non-null    int64         \n",
      " 1   country       273 non-null    object        \n",
      " 2   joined_at     273 non-null    datetime64[ns]\n",
      " 3   paid_at       273 non-null    datetime64[ns]\n",
      " 4   revenue       273 non-null    int64         \n",
      " 5   payment_id    273 non-null    int64         \n",
      " 6   from_page     273 non-null    object        \n",
      " 7   product_type  273 non-null    object        \n",
      "dtypes: datetime64[ns](2), int64(3), object(3)\n",
      "memory usage: 17.2+ KB\n"
     ]
    },
    {
     "name": "stderr",
     "output_type": "stream",
     "text": [
      "/opt/tljh/user/lib/python3.7/site-packages/outdated/utils.py:18: OutdatedCacheFailedWarning: Failed to use cache while checking for outdated package.\n",
      "Set the environment variable OUTDATED_RAISE_EXCEPTION=1 for a full traceback.\n",
      "Set the environment variable OUTDATED_IGNORE=1 to disable these warnings.\n",
      "  **kwargs\n",
      "/opt/tljh/user/lib/python3.7/site-packages/outdated/utils.py:18: OutdatedPackageWarning: The package outdated is out of date. Your version is 0.2.1, the latest is 0.2.2.\n",
      "Set the environment variable OUTDATED_IGNORE=1 to disable these warnings.\n",
      "  **kwargs\n"
     ]
    }
   ],
   "source": [
    "transactions_test.info()"
   ]
  },
  {
   "cell_type": "markdown",
   "metadata": {},
   "source": [
    "#### transactions_control_1 – информация о платежах пользователей в первой контрольной группе. "
   ]
  },
  {
   "cell_type": "code",
   "execution_count": 9,
   "metadata": {},
   "outputs": [
    {
     "data": {
      "text/html": [
       "<div>\n",
       "<style scoped>\n",
       "    .dataframe tbody tr th:only-of-type {\n",
       "        vertical-align: middle;\n",
       "    }\n",
       "\n",
       "    .dataframe tbody tr th {\n",
       "        vertical-align: top;\n",
       "    }\n",
       "\n",
       "    .dataframe thead th {\n",
       "        text-align: right;\n",
       "    }\n",
       "</style>\n",
       "<table border=\"1\" class=\"dataframe\">\n",
       "  <thead>\n",
       "    <tr style=\"text-align: right;\">\n",
       "      <th></th>\n",
       "      <th>uid</th>\n",
       "      <th>country</th>\n",
       "      <th>joined_at</th>\n",
       "      <th>paid_at</th>\n",
       "      <th>revenue</th>\n",
       "      <th>payment_id</th>\n",
       "      <th>from_page</th>\n",
       "      <th>product_type</th>\n",
       "    </tr>\n",
       "  </thead>\n",
       "  <tbody>\n",
       "    <tr>\n",
       "      <th>0</th>\n",
       "      <td>891319275.0</td>\n",
       "      <td>France</td>\n",
       "      <td>2017-05-11 19:57:00</td>\n",
       "      <td>2017-12-11 21:57:00</td>\n",
       "      <td>12727.0</td>\n",
       "      <td>147.0</td>\n",
       "      <td>trial_vip_popup</td>\n",
       "      <td>trial_premium</td>\n",
       "    </tr>\n",
       "    <tr>\n",
       "      <th>1</th>\n",
       "      <td>892421826.0</td>\n",
       "      <td>Israel</td>\n",
       "      <td>2017-10-14 12:46:00</td>\n",
       "      <td>2017-10-23 12:54:00</td>\n",
       "      <td>14586.0</td>\n",
       "      <td>147.0</td>\n",
       "      <td>trial_vip_popup</td>\n",
       "      <td>trial_premium</td>\n",
       "    </tr>\n",
       "    <tr>\n",
       "      <th>2</th>\n",
       "      <td>891822480.0</td>\n",
       "      <td>Italy</td>\n",
       "      <td>2017-10-26 22:27:00</td>\n",
       "      <td>2017-12-11 20:59:00</td>\n",
       "      <td>1911.0</td>\n",
       "      <td>19.0</td>\n",
       "      <td>none</td>\n",
       "      <td>coins</td>\n",
       "    </tr>\n",
       "    <tr>\n",
       "      <th>3</th>\n",
       "      <td>891367521.0</td>\n",
       "      <td>Italy</td>\n",
       "      <td>2017-05-11 02:37:00</td>\n",
       "      <td>2017-06-11 19:15:00</td>\n",
       "      <td>1456.0</td>\n",
       "      <td>127.0</td>\n",
       "      <td>sympathy</td>\n",
       "      <td>other_type</td>\n",
       "    </tr>\n",
       "    <tr>\n",
       "      <th>4</th>\n",
       "      <td>892207959.0</td>\n",
       "      <td>France</td>\n",
       "      <td>2017-10-18 18:30:00</td>\n",
       "      <td>2017-12-11 12:03:00</td>\n",
       "      <td>1261.0</td>\n",
       "      <td>19.0</td>\n",
       "      <td>empty_likes</td>\n",
       "      <td>coins</td>\n",
       "    </tr>\n",
       "  </tbody>\n",
       "</table>\n",
       "</div>"
      ],
      "text/plain": [
       "           uid country            joined_at              paid_at  revenue  \\\n",
       "0  891319275.0  France  2017-05-11 19:57:00  2017-12-11 21:57:00  12727.0   \n",
       "1  892421826.0  Israel  2017-10-14 12:46:00  2017-10-23 12:54:00  14586.0   \n",
       "2  891822480.0   Italy  2017-10-26 22:27:00  2017-12-11 20:59:00   1911.0   \n",
       "3  891367521.0   Italy  2017-05-11 02:37:00  2017-06-11 19:15:00   1456.0   \n",
       "4  892207959.0  France  2017-10-18 18:30:00  2017-12-11 12:03:00   1261.0   \n",
       "\n",
       "   payment_id        from_page   product_type  \n",
       "0       147.0  trial_vip_popup  trial_premium  \n",
       "1       147.0  trial_vip_popup  trial_premium  \n",
       "2        19.0             none          coins  \n",
       "3       127.0         sympathy     other_type  \n",
       "4        19.0      empty_likes          coins  "
      ]
     },
     "execution_count": 9,
     "metadata": {},
     "output_type": "execute_result"
    }
   ],
   "source": [
    "transactions_control_1 = pd.read_csv('Проект_3_transactions_control_1.csv', sep=';')\n",
    "transactions_control_1.head()"
   ]
  },
  {
   "cell_type": "code",
   "execution_count": 10,
   "metadata": {},
   "outputs": [
    {
     "name": "stdout",
     "output_type": "stream",
     "text": [
      "<class 'pandas.core.frame.DataFrame'>\n",
      "RangeIndex: 1007 entries, 0 to 1006\n",
      "Data columns (total 8 columns):\n",
      " #   Column        Non-Null Count  Dtype  \n",
      "---  ------        --------------  -----  \n",
      " 0   uid           377 non-null    float64\n",
      " 1   country       377 non-null    object \n",
      " 2   joined_at     1007 non-null   object \n",
      " 3   paid_at       1007 non-null   object \n",
      " 4   revenue       377 non-null    float64\n",
      " 5   payment_id    377 non-null    float64\n",
      " 6   from_page     377 non-null    object \n",
      " 7   product_type  377 non-null    object \n",
      "dtypes: float64(3), object(5)\n",
      "memory usage: 63.1+ KB\n"
     ]
    }
   ],
   "source": [
    "transactions_control_1.info()"
   ]
  },
  {
   "cell_type": "code",
   "execution_count": 11,
   "metadata": {},
   "outputs": [],
   "source": [
    "transactions_control_1.joined_at = pd.to_datetime(transactions_control_1.joined_at)\n",
    "transactions_control_1.paid_at = pd.to_datetime(transactions_control_1.paid_at)"
   ]
  },
  {
   "cell_type": "code",
   "execution_count": 12,
   "metadata": {},
   "outputs": [
    {
     "name": "stdout",
     "output_type": "stream",
     "text": [
      "<class 'pandas.core.frame.DataFrame'>\n",
      "RangeIndex: 1007 entries, 0 to 1006\n",
      "Data columns (total 8 columns):\n",
      " #   Column        Non-Null Count  Dtype         \n",
      "---  ------        --------------  -----         \n",
      " 0   uid           377 non-null    float64       \n",
      " 1   country       377 non-null    object        \n",
      " 2   joined_at     377 non-null    datetime64[ns]\n",
      " 3   paid_at       377 non-null    datetime64[ns]\n",
      " 4   revenue       377 non-null    float64       \n",
      " 5   payment_id    377 non-null    float64       \n",
      " 6   from_page     377 non-null    object        \n",
      " 7   product_type  377 non-null    object        \n",
      "dtypes: datetime64[ns](2), float64(3), object(3)\n",
      "memory usage: 63.1+ KB\n"
     ]
    }
   ],
   "source": [
    "transactions_control_1.info()"
   ]
  },
  {
   "cell_type": "markdown",
   "metadata": {},
   "source": [
    "#### transactions_control_2 – информация о платежах пользователей во второй контрольной группе "
   ]
  },
  {
   "cell_type": "code",
   "execution_count": 13,
   "metadata": {},
   "outputs": [
    {
     "data": {
      "text/html": [
       "<div>\n",
       "<style scoped>\n",
       "    .dataframe tbody tr th:only-of-type {\n",
       "        vertical-align: middle;\n",
       "    }\n",
       "\n",
       "    .dataframe tbody tr th {\n",
       "        vertical-align: top;\n",
       "    }\n",
       "\n",
       "    .dataframe thead th {\n",
       "        text-align: right;\n",
       "    }\n",
       "</style>\n",
       "<table border=\"1\" class=\"dataframe\">\n",
       "  <thead>\n",
       "    <tr style=\"text-align: right;\">\n",
       "      <th></th>\n",
       "      <th>uid</th>\n",
       "      <th>country</th>\n",
       "      <th>joined_at</th>\n",
       "      <th>paid_at</th>\n",
       "      <th>revenue</th>\n",
       "      <th>payment_id</th>\n",
       "      <th>from_page</th>\n",
       "      <th>product_type</th>\n",
       "    </tr>\n",
       "  </thead>\n",
       "  <tbody>\n",
       "    <tr>\n",
       "      <th>0</th>\n",
       "      <td>891266616</td>\n",
       "      <td>Argentina</td>\n",
       "      <td>2017-06-11 15:25:00</td>\n",
       "      <td>2017-10-11 17:35:00</td>\n",
       "      <td>6305</td>\n",
       "      <td>19</td>\n",
       "      <td>autorefill</td>\n",
       "      <td>coins</td>\n",
       "    </tr>\n",
       "    <tr>\n",
       "      <th>1</th>\n",
       "      <td>892186737</td>\n",
       "      <td>Chile</td>\n",
       "      <td>2017-10-19 06:03:00</td>\n",
       "      <td>2017-04-11 08:53:00</td>\n",
       "      <td>4732</td>\n",
       "      <td>147</td>\n",
       "      <td>promo_09</td>\n",
       "      <td>premium_no_trial</td>\n",
       "    </tr>\n",
       "    <tr>\n",
       "      <th>2</th>\n",
       "      <td>891959004</td>\n",
       "      <td>United States of America</td>\n",
       "      <td>2017-10-24 00:12:00</td>\n",
       "      <td>2017-10-31 02:12:00</td>\n",
       "      <td>10153</td>\n",
       "      <td>147</td>\n",
       "      <td>trial_vip_popup</td>\n",
       "      <td>trial_premium</td>\n",
       "    </tr>\n",
       "    <tr>\n",
       "      <th>3</th>\n",
       "      <td>892115478</td>\n",
       "      <td>Spain</td>\n",
       "      <td>2017-10-20 20:39:00</td>\n",
       "      <td>2017-10-26 06:26:00</td>\n",
       "      <td>2366</td>\n",
       "      <td>67</td>\n",
       "      <td>empty_likes</td>\n",
       "      <td>other_type</td>\n",
       "    </tr>\n",
       "    <tr>\n",
       "      <th>4</th>\n",
       "      <td>891592941</td>\n",
       "      <td>Switzerland</td>\n",
       "      <td>2017-10-31 12:40:00</td>\n",
       "      <td>2017-03-11 16:25:00</td>\n",
       "      <td>6292</td>\n",
       "      <td>147</td>\n",
       "      <td>promo_09</td>\n",
       "      <td>premium_no_trial</td>\n",
       "    </tr>\n",
       "  </tbody>\n",
       "</table>\n",
       "</div>"
      ],
      "text/plain": [
       "         uid                   country            joined_at  \\\n",
       "0  891266616                 Argentina  2017-06-11 15:25:00   \n",
       "1  892186737                     Chile  2017-10-19 06:03:00   \n",
       "2  891959004  United States of America  2017-10-24 00:12:00   \n",
       "3  892115478                     Spain  2017-10-20 20:39:00   \n",
       "4  891592941               Switzerland  2017-10-31 12:40:00   \n",
       "\n",
       "               paid_at  revenue  payment_id        from_page      product_type  \n",
       "0  2017-10-11 17:35:00     6305          19       autorefill             coins  \n",
       "1  2017-04-11 08:53:00     4732         147         promo_09  premium_no_trial  \n",
       "2  2017-10-31 02:12:00    10153         147  trial_vip_popup     trial_premium  \n",
       "3  2017-10-26 06:26:00     2366          67      empty_likes        other_type  \n",
       "4  2017-03-11 16:25:00     6292         147         promo_09  premium_no_trial  "
      ]
     },
     "execution_count": 13,
     "metadata": {},
     "output_type": "execute_result"
    }
   ],
   "source": [
    "transactions_control_2 = pd.read_csv('Проект_3_transactions_control_2.csv', sep=';')\n",
    "transactions_control_2.head()"
   ]
  },
  {
   "cell_type": "code",
   "execution_count": 14,
   "metadata": {},
   "outputs": [
    {
     "name": "stdout",
     "output_type": "stream",
     "text": [
      "<class 'pandas.core.frame.DataFrame'>\n",
      "RangeIndex: 328 entries, 0 to 327\n",
      "Data columns (total 8 columns):\n",
      " #   Column        Non-Null Count  Dtype \n",
      "---  ------        --------------  ----- \n",
      " 0   uid           328 non-null    int64 \n",
      " 1   country       328 non-null    object\n",
      " 2   joined_at     328 non-null    object\n",
      " 3   paid_at       328 non-null    object\n",
      " 4   revenue       328 non-null    int64 \n",
      " 5   payment_id    328 non-null    int64 \n",
      " 6   from_page     328 non-null    object\n",
      " 7   product_type  328 non-null    object\n",
      "dtypes: int64(3), object(5)\n",
      "memory usage: 20.6+ KB\n"
     ]
    },
    {
     "name": "stderr",
     "output_type": "stream",
     "text": [
      "/opt/tljh/user/lib/python3.7/site-packages/outdated/utils.py:18: OutdatedCacheFailedWarning: Failed to use cache while checking for outdated package.\n",
      "Set the environment variable OUTDATED_RAISE_EXCEPTION=1 for a full traceback.\n",
      "Set the environment variable OUTDATED_IGNORE=1 to disable these warnings.\n",
      "  **kwargs\n",
      "/opt/tljh/user/lib/python3.7/site-packages/outdated/utils.py:18: OutdatedPackageWarning: The package pingouin is out of date. Your version is 0.4.0, the latest is 0.5.5.\n",
      "Set the environment variable OUTDATED_IGNORE=1 to disable these warnings.\n",
      "  **kwargs\n"
     ]
    }
   ],
   "source": [
    "transactions_control_2.info()"
   ]
  },
  {
   "cell_type": "code",
   "execution_count": 15,
   "metadata": {},
   "outputs": [],
   "source": [
    "transactions_control_2.joined_at = pd.to_datetime(transactions_control_2.joined_at)\n",
    "transactions_control_2.paid_at = pd.to_datetime(transactions_control_2.paid_at)"
   ]
  },
  {
   "cell_type": "code",
   "execution_count": 16,
   "metadata": {},
   "outputs": [
    {
     "name": "stdout",
     "output_type": "stream",
     "text": [
      "<class 'pandas.core.frame.DataFrame'>\n",
      "RangeIndex: 328 entries, 0 to 327\n",
      "Data columns (total 8 columns):\n",
      " #   Column        Non-Null Count  Dtype         \n",
      "---  ------        --------------  -----         \n",
      " 0   uid           328 non-null    int64         \n",
      " 1   country       328 non-null    object        \n",
      " 2   joined_at     328 non-null    datetime64[ns]\n",
      " 3   paid_at       328 non-null    datetime64[ns]\n",
      " 4   revenue       328 non-null    int64         \n",
      " 5   payment_id    328 non-null    int64         \n",
      " 6   from_page     328 non-null    object        \n",
      " 7   product_type  328 non-null    object        \n",
      "dtypes: datetime64[ns](2), int64(3), object(3)\n",
      "memory usage: 20.6+ KB\n"
     ]
    }
   ],
   "source": [
    "transactions_control_2.info()"
   ]
  },
  {
   "cell_type": "markdown",
   "metadata": {},
   "source": [
    "# Проект: вариант 3\n",
    "Представьте, что вы работаете в крупном дейтинговом приложении (сервис для знакомств).\n",
    "\n",
    "Помимо базовых функций, в приложении также имеется премиум-подписка, которая дает доступ к ряду важных дополнительных возможностей. Был проведен A/B тест, в рамках которого для новых пользователей из нескольких стран была изменена стоимость премиум-подписки* при покупке через две новые платежные системы. При этом стоимость пробного периода оставалась прежней.\n",
    "\n",
    "Проверьте:\n",
    "\n",
    "Был ли эксперимент успешен в целом.\n",
    "*Деньги за подписку списываются ежемесячно до тех пор, пока пользователь её не отменит."
   ]
  },
  {
   "cell_type": "markdown",
   "metadata": {},
   "source": [
    "__Для начала проверим данные на полные дубликаты__"
   ]
  },
  {
   "cell_type": "code",
   "execution_count": 17,
   "metadata": {},
   "outputs": [
    {
     "name": "stdout",
     "output_type": "stream",
     "text": [
      "В информации о пользователях в тестовой группе 0 дубликатов\n",
      "В информации о пользователях в первой контрольной группе 0 дубликатов\n",
      "В информации о пользователях во второй контрольной группе 0 дубликатов\n"
     ]
    }
   ],
   "source": [
    "print(f'В информации о пользователях в тестовой группе {users_test.duplicated().sum()} дубликатов')\n",
    "print(f'В информации о пользователях в первой контрольной группе {users_control_1.duplicated().sum()} дубликатов')\n",
    "print(f'В информации о пользователях во второй контрольной группе {users_control_2.duplicated().sum()} дубликатов')"
   ]
  },
  {
   "cell_type": "code",
   "execution_count": 18,
   "metadata": {},
   "outputs": [
    {
     "name": "stdout",
     "output_type": "stream",
     "text": [
      "В информации о платежах пользователей тестовой группы 7 дубликатов\n",
      "В информации о платежах пользователей контрольной группы_1 650 дубликатов\n",
      "В информации о платежах пользователей контрольной группы_2 5 дубликатов\n"
     ]
    }
   ],
   "source": [
    "print(f'В информации о платежах пользователей тестовой группы {transactions_test.duplicated().sum()} дубликатов')\n",
    "print(f'В информации о платежах пользователей контрольной группы_1 {transactions_control_1.duplicated().sum()} дубликатов')\n",
    "print(f'В информации о платежах пользователей контрольной группы_2 {transactions_control_2.duplicated().sum()} дубликатов')"
   ]
  },
  {
   "cell_type": "markdown",
   "metadata": {},
   "source": [
    "Удаляем дубликаты"
   ]
  },
  {
   "cell_type": "code",
   "execution_count": 19,
   "metadata": {},
   "outputs": [],
   "source": [
    "transactions_test = transactions_test.drop_duplicates()\n",
    "transactions_control_1 = transactions_control_1.drop_duplicates()\n",
    "transactions_control_2 = transactions_control_2.drop_duplicates()"
   ]
  },
  {
   "cell_type": "markdown",
   "metadata": {},
   "source": [
    "__Проверим данные на совпадение, есть ли все пользователи из датафрейма информация о платежах пользователей в датафрейме информация о пользователях__"
   ]
  },
  {
   "cell_type": "code",
   "execution_count": 20,
   "metadata": {},
   "outputs": [
    {
     "name": "stdout",
     "output_type": "stream",
     "text": [
      "True    266\n",
      "Name: uid, dtype: int64\n",
      "266 \n",
      "\n",
      "True     356\n",
      "False      1\n",
      "Name: uid, dtype: int64\n",
      "357 \n",
      "\n",
      "True    323\n",
      "Name: uid, dtype: int64\n",
      "323\n"
     ]
    }
   ],
   "source": [
    "def coincidences():\n",
    "    print((transactions_test['uid'].isin(users_test['uid'])).value_counts())\n",
    "    print(f\"{len(transactions_test)} \\n\")\n",
    "\n",
    "    print((transactions_control_1['uid'].isin(users_control_1['uid'])).value_counts())\n",
    "    print(f\"{len(transactions_control_1)} \\n\")\n",
    "\n",
    "    print((transactions_control_2['uid'].isin(users_control_2['uid'])).value_counts())\n",
    "    print(f\"{len(transactions_control_2)}\")\n",
    "coincidences()"
   ]
  },
  {
   "cell_type": "markdown",
   "metadata": {},
   "source": [
    "#### В первой контрольной группе есть разрыв\n",
    "\n",
    "В транзакциях контрольной группы 1 есть идентификаторы пользователей, которых нет в датафрейме информация о пользователях. Для обеспечения корректности анализа такие транзакции удаленяем (оставлены будут только те, чьи идентификаторы есть в обоих датафреймах)."
   ]
  },
  {
   "cell_type": "code",
   "execution_count": 21,
   "metadata": {},
   "outputs": [],
   "source": [
    "transactions_control_1 = transactions_control_1[transactions_control_1['uid'].isin(users_control_1['uid'])]"
   ]
  },
  {
   "cell_type": "markdown",
   "metadata": {},
   "source": [
    "__Проверка пересечения пользователей между группами__\n",
    "\n",
    "Для обеспечения валидности A/B теста важно, чтобы один и тот же пользователь не попадал сразу в несколько экспериментальных групп\n",
    "\n",
    "Ранее были проверены полные дубликаты строк, однако это не исключает ситуации, когда один и тот же пользователь присутствует в нескольких выборках, но с разными значениями других полей"
   ]
  },
  {
   "cell_type": "code",
   "execution_count": 22,
   "metadata": {},
   "outputs": [
    {
     "data": {
      "text/plain": [
       "0"
      ]
     },
     "execution_count": 22,
     "metadata": {},
     "output_type": "execute_result"
    }
   ],
   "source": [
    "len(set(users_test['uid']) & set(users_control_1['uid']))"
   ]
  },
  {
   "cell_type": "code",
   "execution_count": 23,
   "metadata": {},
   "outputs": [
    {
     "data": {
      "text/plain": [
       "0"
      ]
     },
     "execution_count": 23,
     "metadata": {},
     "output_type": "execute_result"
    }
   ],
   "source": [
    "len(set(users_test['uid']) & set(users_control_2['uid']))"
   ]
  },
  {
   "cell_type": "code",
   "execution_count": 24,
   "metadata": {},
   "outputs": [
    {
     "data": {
      "text/plain": [
       "0"
      ]
     },
     "execution_count": 24,
     "metadata": {},
     "output_type": "execute_result"
    }
   ],
   "source": [
    "len(set(users_control_1['uid']) & set(users_control_2['uid']))"
   ]
  },
  {
   "cell_type": "markdown",
   "metadata": {},
   "source": [
    "Проверка пересечения пользователей между группами показала, что таких пересечений нет\n",
    "\n",
    "Это подтверждает, что разбиение на группы корректное:\n",
    "\n",
    "__Все пользователи уникальны в пределах своей группы__"
   ]
  },
  {
   "cell_type": "markdown",
   "metadata": {},
   "source": [
    "Теперь хотелось бы проверить эквивалентность групп по составу, начнем с __возраста__"
   ]
  },
  {
   "cell_type": "code",
   "execution_count": 25,
   "metadata": {},
   "outputs": [
    {
     "data": {
      "text/plain": [
       "(array([1057., 1490.,  859.,  580.,  220.,   44.,    7.,    2.,    2.,\n",
       "           3.]),\n",
       " array([16. , 24.3, 32.6, 40.9, 49.2, 57.5, 65.8, 74.1, 82.4, 90.7, 99. ]),\n",
       " <a list of 10 Patch objects>)"
      ]
     },
     "execution_count": 25,
     "metadata": {},
     "output_type": "execute_result"
    },
    {
     "data": {
      "image/png": "[encoded data removed]",
      "text/plain": [
       "<Figure size 1080x288 with 3 Axes>"
      ]
     },
     "metadata": {
      "needs_background": "light"
     },
     "output_type": "display_data"
    }
   ],
   "source": [
    "fig, axes = plt.subplots(1, 3, figsize=(15, 4), sharey=True)\n",
    "axes[0].hist(users_test['age'])\n",
    "axes[1].hist(users_control_1['age'])\n",
    "axes[2].hist(users_control_2['age'])"
   ]
  },
  {
   "cell_type": "code",
   "execution_count": 26,
   "metadata": {},
   "outputs": [
    {
     "name": "stdout",
     "output_type": "stream",
     "text": [
      "            W          pval  normal\n",
      "age  0.929385  4.292598e-41   False \n",
      "\n",
      "           W          pval  normal\n",
      "age  0.93345  2.593902e-40   False \n",
      "\n",
      "            W          pval  normal\n",
      "age  0.941304  3.639820e-38   False \n",
      "\n"
     ]
    }
   ],
   "source": [
    "print(f\"{pg.normality(users_test['age'])} \\n\")\n",
    "\n",
    "print(f\"{pg.normality(users_control_1['age'])} \\n\")\n",
    "\n",
    "print(f\"{pg.normality(users_control_2['age'])} \\n\")"
   ]
  },
  {
   "cell_type": "markdown",
   "metadata": {},
   "source": [
    "Так как распределения не нормальны используем тест Крускала–Уоллиса"
   ]
  },
  {
   "cell_type": "code",
   "execution_count": 27,
   "metadata": {},
   "outputs": [
    {
     "data": {
      "text/plain": [
       "KruskalResult(statistic=1.1101328014539542, pvalue=0.5740341436464856)"
      ]
     },
     "execution_count": 27,
     "metadata": {},
     "output_type": "execute_result"
    }
   ],
   "source": [
    "kruskal(users_test['age'],\n",
    "        users_control_1['age'],\n",
    "        users_control_2['age'])"
   ]
  },
  {
   "cell_type": "markdown",
   "metadata": {},
   "source": [
    "H<sub>0</sub>: Распределения возраста пользователей в группах одинаковы.  \n",
    "H<sub>1</sub>: Распределения возраста хотя бы в одной из групп отличаются.\n",
    "\n",
    "Распределение возраста среди пользователей в тестовой и контрольных группах не имеет статистически значимых отличий p-value = 0.57 по тесту Крускала–Уоллиса\n",
    "\n",
    "Так как p-value > 0.05 H<sub>0</sub> не отвергаем\n",
    "\n",
    "Это позволяет считать группы сопоставимыми по возрасту и продолжить анализ результатов A/B теста без корректировок по этому признаку"
   ]
  },
  {
   "cell_type": "markdown",
   "metadata": {},
   "source": [
    "далее проверим __коэффициент привлекательности__"
   ]
  },
  {
   "cell_type": "code",
   "execution_count": 28,
   "metadata": {},
   "outputs": [
    {
     "data": {
      "text/plain": [
       "(array([147., 337., 330., 407., 395., 210., 259., 209., 110., 341.]),\n",
       " array([   1. ,  100.9,  200.8,  300.7,  400.6,  500.5,  600.4,  700.3,\n",
       "         800.2,  900.1, 1000. ]),\n",
       " <a list of 10 Patch objects>)"
      ]
     },
     "execution_count": 28,
     "metadata": {},
     "output_type": "execute_result"
    },
    {
     "data": {
      "image/png": "[encoded data removed]",
      "text/plain": [
       "<Figure size 1080x288 with 3 Axes>"
      ]
     },
     "metadata": {
      "needs_background": "light"
     },
     "output_type": "display_data"
    }
   ],
   "source": [
    "fig, axes = plt.subplots(1, 3, figsize=(15, 4), sharey=True)\n",
    "axes[0].hist(users_test[users_test['attraction_coeff']>0]['attraction_coeff'])\n",
    "axes[1].hist(users_control_1[users_control_1['attraction_coeff']>0]['attraction_coeff'])\n",
    "axes[2].hist(users_control_2[users_control_2['attraction_coeff']>0]['attraction_coeff'])"
   ]
  },
  {
   "cell_type": "code",
   "execution_count": 29,
   "metadata": {},
   "outputs": [
    {
     "name": "stdout",
     "output_type": "stream",
     "text": [
      "                         W          pval  normal\n",
      "attraction_coeff  0.948195  2.180167e-30   False \n",
      "\n",
      "                         W          pval  normal\n",
      "attraction_coeff  0.947356  1.096003e-30   False \n",
      "\n",
      "                         W          pval  normal\n",
      "attraction_coeff  0.946274  1.527793e-30   False \n",
      "\n"
     ]
    }
   ],
   "source": [
    "print(f\"{pg.normality(users_test[users_test['attraction_coeff']>0]['attraction_coeff'])} \\n\")\n",
    "\n",
    "print(f\"{pg.normality(users_control_1[users_control_1['attraction_coeff']>0]['attraction_coeff'])} \\n\")\n",
    "\n",
    "print(f\"{pg.normality(users_control_2[users_control_2['attraction_coeff']>0]['attraction_coeff'])} \\n\")"
   ]
  },
  {
   "cell_type": "markdown",
   "metadata": {},
   "source": [
    "Так как распределения не нормальны используем тест Крускала–Уоллиса"
   ]
  },
  {
   "cell_type": "code",
   "execution_count": 30,
   "metadata": {},
   "outputs": [
    {
     "data": {
      "text/plain": [
       "KruskalResult(statistic=3.8617894454375916, pvalue=0.14501838917317744)"
      ]
     },
     "execution_count": 30,
     "metadata": {},
     "output_type": "execute_result"
    }
   ],
   "source": [
    "kruskal(users_test[users_test['attraction_coeff']>0]['attraction_coeff'],\n",
    "        users_control_1[users_control_1['attraction_coeff']>0]['attraction_coeff'],\n",
    "        users_control_2[users_control_2['attraction_coeff']>0]['attraction_coeff'])"
   ]
  },
  {
   "cell_type": "markdown",
   "metadata": {},
   "source": [
    "H<sub>0</sub>: Распределения коэффициента привлекательности в группах одинаковы.  \n",
    "H<sub>1</sub>: Распределения коэффициента привлекательности хотя бы в одной из групп отличаются.\n",
    "\n",
    "Распределение коэффициента привлекательности среди пользователей в тестовой и контрольных группах не имеет статистически значимых отличий p-value = 0.14 по тесту Крускала–Уоллиса \n",
    "\n",
    "Так как p-value > 0.05, H<sub>0</sub> не отвергается.\n",
    "\n",
    "Это позволяет считать группы сопоставимыми по коэффициенту привлекательности и продолжить анализ результатов A/B теста без корректировок по этому признаку"
   ]
  },
  {
   "cell_type": "markdown",
   "metadata": {},
   "source": [
    "далее проверим __страны__"
   ]
  },
  {
   "cell_type": "code",
   "execution_count": 31,
   "metadata": {},
   "outputs": [],
   "source": [
    "users_test['group'] = 'test'\n",
    "users_control_1['group'] = 'control_1'\n",
    "users_control_2['group'] = 'control_2'\n",
    "\n",
    "all_country = pd.concat([users_test[['country', 'group']], users_control_1[['country', 'group']], users_control_2[['country', 'group']]], ignore_index=True)\n",
    "all_country\n",
    "\n",
    "users_test = users_test.drop('group', axis=1)\n",
    "users_control_1 = users_control_1.drop('group', axis=1)\n",
    "users_control_2 = users_control_2.drop('group', axis=1)"
   ]
  },
  {
   "cell_type": "code",
   "execution_count": 32,
   "metadata": {},
   "outputs": [
    {
     "data": {
      "text/html": [
       "<div>\n",
       "<style scoped>\n",
       "    .dataframe tbody tr th:only-of-type {\n",
       "        vertical-align: middle;\n",
       "    }\n",
       "\n",
       "    .dataframe tbody tr th {\n",
       "        vertical-align: top;\n",
       "    }\n",
       "\n",
       "    .dataframe thead th {\n",
       "        text-align: right;\n",
       "    }\n",
       "</style>\n",
       "<table border=\"1\" class=\"dataframe\">\n",
       "  <thead>\n",
       "    <tr style=\"text-align: right;\">\n",
       "      <th>group</th>\n",
       "      <th>control_1</th>\n",
       "      <th>control_2</th>\n",
       "      <th>test</th>\n",
       "    </tr>\n",
       "    <tr>\n",
       "      <th>country</th>\n",
       "      <th></th>\n",
       "      <th></th>\n",
       "      <th></th>\n",
       "    </tr>\n",
       "  </thead>\n",
       "  <tbody>\n",
       "    <tr>\n",
       "      <th>Algeria</th>\n",
       "      <td>2</td>\n",
       "      <td>0</td>\n",
       "      <td>2</td>\n",
       "    </tr>\n",
       "    <tr>\n",
       "      <th>Argentina</th>\n",
       "      <td>389</td>\n",
       "      <td>397</td>\n",
       "      <td>396</td>\n",
       "    </tr>\n",
       "    <tr>\n",
       "      <th>Armenia</th>\n",
       "      <td>1</td>\n",
       "      <td>0</td>\n",
       "      <td>0</td>\n",
       "    </tr>\n",
       "    <tr>\n",
       "      <th>Australia</th>\n",
       "      <td>50</td>\n",
       "      <td>51</td>\n",
       "      <td>62</td>\n",
       "    </tr>\n",
       "    <tr>\n",
       "      <th>Austria</th>\n",
       "      <td>0</td>\n",
       "      <td>2</td>\n",
       "      <td>0</td>\n",
       "    </tr>\n",
       "    <tr>\n",
       "      <th>...</th>\n",
       "      <td>...</td>\n",
       "      <td>...</td>\n",
       "      <td>...</td>\n",
       "    </tr>\n",
       "    <tr>\n",
       "      <th>United Kingdom (Great Britain)</th>\n",
       "      <td>146</td>\n",
       "      <td>146</td>\n",
       "      <td>169</td>\n",
       "    </tr>\n",
       "    <tr>\n",
       "      <th>United States of America</th>\n",
       "      <td>1471</td>\n",
       "      <td>1486</td>\n",
       "      <td>1450</td>\n",
       "    </tr>\n",
       "    <tr>\n",
       "      <th>Uruguay</th>\n",
       "      <td>0</td>\n",
       "      <td>1</td>\n",
       "      <td>1</td>\n",
       "    </tr>\n",
       "    <tr>\n",
       "      <th>Uzbekistan</th>\n",
       "      <td>0</td>\n",
       "      <td>0</td>\n",
       "      <td>1</td>\n",
       "    </tr>\n",
       "    <tr>\n",
       "      <th>Venezuela</th>\n",
       "      <td>2</td>\n",
       "      <td>0</td>\n",
       "      <td>0</td>\n",
       "    </tr>\n",
       "  </tbody>\n",
       "</table>\n",
       "<p>72 rows × 3 columns</p>\n",
       "</div>"
      ],
      "text/plain": [
       "group                           control_1  control_2  test\n",
       "country                                                   \n",
       "Algeria                                 2          0     2\n",
       "Argentina                             389        397   396\n",
       "Armenia                                 1          0     0\n",
       "Australia                              50         51    62\n",
       "Austria                                 0          2     0\n",
       "...                                   ...        ...   ...\n",
       "United Kingdom (Great Britain)        146        146   169\n",
       "United States of America             1471       1486  1450\n",
       "Uruguay                                 0          1     1\n",
       "Uzbekistan                              0          0     1\n",
       "Venezuela                               2          0     0\n",
       "\n",
       "[72 rows x 3 columns]"
      ]
     },
     "execution_count": 32,
     "metadata": {},
     "output_type": "execute_result"
    }
   ],
   "source": [
    "all_country = pd.crosstab(all_country['country'], all_country['group'])\n",
    "all_country"
   ]
  },
  {
   "cell_type": "code",
   "execution_count": 33,
   "metadata": {},
   "outputs": [
    {
     "name": "stdout",
     "output_type": "stream",
     "text": [
      "p-value: 0.658154701146375\n"
     ]
    }
   ],
   "source": [
    "chi2 = chi2_contingency(all_country)\n",
    "print(f\"p-value: {chi2[1]}\")"
   ]
  },
  {
   "cell_type": "markdown",
   "metadata": {},
   "source": [
    "H<sub>0</sub>: Распределения стран между группами одинаковы.  \n",
    "H<sub>1</sub>: Распределения стран хотя бы в одной из групп отличаются.\n",
    "\n",
    "Распределение стран среди пользователей в тестовой и контрольных группах не имеет статистически значимых отличий p-value = 0.66 по критерию хи-квадрат\n",
    "\n",
    "Так как p-value > 0.05, H<sub>0</sub> не отвергается\n",
    "\n",
    "Это позволяет считать группы сопоставимыми по странам и продолжить анализ результатов A/B теста без корректировок по этому признаку"
   ]
  },
  {
   "cell_type": "markdown",
   "metadata": {},
   "source": [
    "И под конец __количество визитов__"
   ]
  },
  {
   "cell_type": "code",
   "execution_count": 34,
   "metadata": {},
   "outputs": [],
   "source": [
    "users_test['visit_count'] = users_test['visit_days'].apply(\n",
    "    lambda x: len(str(x).split(\",\")) if pd.notnull(x) else 0)\n",
    "\n",
    "users_control_1['visit_count'] = users_control_1['visit_days'].apply(\n",
    "    lambda x: len(str(x).split(\",\")) if pd.notnull(x) else 0)\n",
    "\n",
    "users_control_2['visit_count'] = users_control_2['visit_days'].apply(\n",
    "    lambda x: len(str(x).split(\",\")) if pd.notnull(x) else 0)"
   ]
  },
  {
   "cell_type": "code",
   "execution_count": 35,
   "metadata": {},
   "outputs": [
    {
     "data": {
      "text/plain": [
       "(array([2686.,  528.,  349.,  216.,  154.,  123.,   68.,   69.,   38.,\n",
       "          33.]),\n",
       " array([ 0. ,  3.1,  6.2,  9.3, 12.4, 15.5, 18.6, 21.7, 24.8, 27.9, 31. ]),\n",
       " <a list of 10 Patch objects>)"
      ]
     },
     "execution_count": 35,
     "metadata": {},
     "output_type": "execute_result"
    },
    {
     "data": {
      "image/png": "[encoded data removed]",
      "text/plain": [
       "<Figure size 1080x288 with 3 Axes>"
      ]
     },
     "metadata": {
      "needs_background": "light"
     },
     "output_type": "display_data"
    }
   ],
   "source": [
    "fig, axes = plt.subplots(1, 3, figsize=(15, 4), sharey=True)\n",
    "axes[0].hist(users_test['visit_count'])\n",
    "axes[1].hist(users_control_1['visit_count'])\n",
    "axes[2].hist(users_control_2['visit_count'])"
   ]
  },
  {
   "cell_type": "code",
   "execution_count": 36,
   "metadata": {},
   "outputs": [
    {
     "name": "stdout",
     "output_type": "stream",
     "text": [
      "                   W  pval  normal\n",
      "visit_count  0.75079   0.0   False \n",
      "\n",
      "                    W  pval  normal\n",
      "visit_count  0.747675   0.0   False \n",
      "\n",
      "                    W  pval  normal\n",
      "visit_count  0.739058   0.0   False \n",
      "\n"
     ]
    }
   ],
   "source": [
    "print(f\"{pg.normality(users_test['visit_count'])} \\n\")\n",
    "\n",
    "print(f\"{pg.normality(users_control_1['visit_count'])} \\n\")\n",
    "\n",
    "print(f\"{pg.normality(users_control_2['visit_count'])} \\n\")"
   ]
  },
  {
   "cell_type": "markdown",
   "metadata": {},
   "source": [
    "Так как распределения не нормальны используем тест Крускала–Уоллиса"
   ]
  },
  {
   "cell_type": "code",
   "execution_count": 37,
   "metadata": {},
   "outputs": [
    {
     "data": {
      "text/plain": [
       "KruskalResult(statistic=3.918718944478727, pvalue=0.1409486735515363)"
      ]
     },
     "execution_count": 37,
     "metadata": {},
     "output_type": "execute_result"
    }
   ],
   "source": [
    "kruskal(users_test['visit_count'],\n",
    "        users_control_1['visit_count'],\n",
    "        users_control_2['visit_count'])"
   ]
  },
  {
   "cell_type": "markdown",
   "metadata": {},
   "source": [
    "H<sub>0</sub>: Распределения числа дней посещений visit_count между группами одинаковы.  \n",
    "H<sub>1</sub>: Распределения числа дней посещений хотя бы в одной из групп отличаются.\n",
    "\n",
    "Распределение visit_count среди пользователей в тестовой и контрольных группах не имеет статистически значимых отличий p-value = 0.14 по тесту Крускала–Уоллиса\n",
    "\n",
    "Так как p-value > 0.05, H<sub>0</sub> не отвергается\n",
    "\n",
    "Это позволяет считать группы сопоставимыми по visit_count и продолжить анализ результатов A/B теста без корректировок по этому признаку"
   ]
  },
  {
   "cell_type": "markdown",
   "metadata": {},
   "source": [
    "#### Далее посмотрим на временные различия между группами"
   ]
  },
  {
   "cell_type": "code",
   "execution_count": 38,
   "metadata": {},
   "outputs": [
    {
     "data": {
      "text/plain": [
       "(array([  3.,   8.,   8.,   3.,  16.,  12.,   8.,   6.,   6., 253.]),\n",
       " array([736340.35833333, 736369.69631944, 736399.03430556, 736428.37229167,\n",
       "        736457.71027778, 736487.04826389, 736516.38625   , 736545.72423611,\n",
       "        736575.06222222, 736604.40020833, 736633.73819444]),\n",
       " <a list of 10 Patch objects>)"
      ]
     },
     "execution_count": 38,
     "metadata": {},
     "output_type": "execute_result"
    },
    {
     "data": {
      "image/png": "[encoded data removed]",
      "text/plain": [
       "<Figure size 2160x360 with 3 Axes>"
      ]
     },
     "metadata": {
      "needs_background": "light"
     },
     "output_type": "display_data"
    }
   ],
   "source": [
    "fig, axes = plt.subplots(1, 3, figsize=(30, 5), sharey=True)\n",
    "axes[0].hist(transactions_test['joined_at'])\n",
    "axes[1].hist(transactions_control_1['joined_at'])\n",
    "axes[2].hist(transactions_control_2['joined_at'])"
   ]
  },
  {
   "cell_type": "markdown",
   "metadata": {},
   "source": [
    "По графикам видно что в тестовой и второй контрольных группах окно регистрации ограничивается 2017 годом\n",
    "\n",
    "Отфильтруем данные в первой контрольной группе так как для корректного A/B теста требуются сопоставимые временные срезы. Пользователи, зарегистрированные в 2015–2016 годах, не соответствуют условиям теста (он проводился только на новых пользователях). Поэтому они были исключены из анализа."
   ]
  },
  {
   "cell_type": "code",
   "execution_count": 39,
   "metadata": {},
   "outputs": [],
   "source": [
    "transactions_control_1 = transactions_control_1[transactions_control_1['joined_at'] >= '2016-12-01']"
   ]
  },
  {
   "cell_type": "code",
   "execution_count": 40,
   "metadata": {},
   "outputs": [
    {
     "data": {
      "text/plain": [
       "(array([  3.,   8.,   8.,   3.,  16.,  12.,   8.,   6.,   6., 253.]),\n",
       " array([736340.35833333, 736369.69631944, 736399.03430556, 736428.37229167,\n",
       "        736457.71027778, 736487.04826389, 736516.38625   , 736545.72423611,\n",
       "        736575.06222222, 736604.40020833, 736633.73819444]),\n",
       " <a list of 10 Patch objects>)"
      ]
     },
     "execution_count": 40,
     "metadata": {},
     "output_type": "execute_result"
    },
    {
     "data": {
      "image/png": "[encoded data removed]",
      "text/plain": [
       "<Figure size 2160x360 with 3 Axes>"
      ]
     },
     "metadata": {
      "needs_background": "light"
     },
     "output_type": "display_data"
    }
   ],
   "source": [
    "fig, axes = plt.subplots(1, 3, figsize=(30, 5), sharey=True)\n",
    "axes[0].hist(transactions_test['joined_at'])\n",
    "axes[1].hist(transactions_control_1['joined_at'])\n",
    "axes[2].hist(transactions_control_2['joined_at'])"
   ]
  },
  {
   "cell_type": "code",
   "execution_count": 41,
   "metadata": {},
   "outputs": [
    {
     "data": {
      "text/plain": [
       "(array([ 16.,  13.,  13.,  15.,  18.,  10.,  14.,  11., 178.,  35.]),\n",
       " array([736340.23194444, 736373.70652778, 736407.18111111, 736440.65569444,\n",
       "        736474.13027778, 736507.60486111, 736541.07944444, 736574.55402778,\n",
       "        736608.02861111, 736641.50319444, 736674.97777778]),\n",
       " <a list of 10 Patch objects>)"
      ]
     },
     "execution_count": 41,
     "metadata": {},
     "output_type": "execute_result"
    },
    {
     "data": {
      "image/png": "[encoded data removed]",
      "text/plain": [
       "<Figure size 2160x360 with 3 Axes>"
      ]
     },
     "metadata": {
      "needs_background": "light"
     },
     "output_type": "display_data"
    }
   ],
   "source": [
    "fig, axes = plt.subplots(1, 3, figsize=(30, 5), sharey=True)\n",
    "axes[0].hist(transactions_test['paid_at'])\n",
    "axes[1].hist(transactions_control_1['paid_at'])\n",
    "axes[2].hist(transactions_control_2['paid_at'])"
   ]
  },
  {
   "cell_type": "markdown",
   "metadata": {},
   "source": [
    "После фильтрации старых пользователей визуально временные распределения между группами стали ближе\n",
    "\n",
    "Во всех группах активность пользователей была в 2017 году "
   ]
  },
  {
   "cell_type": "markdown",
   "metadata": {},
   "source": [
    "Сравним задержки между регистрациями и покупками"
   ]
  },
  {
   "cell_type": "code",
   "execution_count": 42,
   "metadata": {},
   "outputs": [],
   "source": [
    "transactions_test['lag_days'] = (transactions_test['paid_at'] - transactions_test['joined_at']).dt.days\n",
    "transactions_control_1['lag_days'] = (transactions_control_1['paid_at'] - transactions_control_1['joined_at']).dt.days\n",
    "transactions_control_2['lag_days'] = (transactions_control_2['paid_at'] - transactions_control_2['joined_at']).dt.days"
   ]
  },
  {
   "cell_type": "markdown",
   "metadata": {},
   "source": [
    "Фильтр от отрицательной задержки (связанной скорее всего либо с отсутствующей записью о регистрации, либо с багом из-за которого регистрация позже покупки)"
   ]
  },
  {
   "cell_type": "code",
   "execution_count": 43,
   "metadata": {},
   "outputs": [],
   "source": [
    "def filt_trans(transactions):\n",
    "    return transactions[\n",
    "    (transactions['joined_at'].notnull()) &\n",
    "    (transactions['paid_at'] >= transactions['joined_at'])]['lag_days']"
   ]
  },
  {
   "cell_type": "code",
   "execution_count": 44,
   "metadata": {},
   "outputs": [
    {
     "data": {
      "text/plain": [
       "(array([202.,  23.,  12.,   0.,   6.,   5.,   0.,   3.,   4.,   8.]),\n",
       " array([  0. ,  21.4,  42.8,  64.2,  85.6, 107. , 128.4, 149.8, 171.2,\n",
       "        192.6, 214. ]),\n",
       " <a list of 10 Patch objects>)"
      ]
     },
     "execution_count": 44,
     "metadata": {},
     "output_type": "execute_result"
    },
    {
     "data": {
      "image/png": "[encoded data removed]",
      "text/plain": [
       "<Figure size 1080x288 with 3 Axes>"
      ]
     },
     "metadata": {
      "needs_background": "light"
     },
     "output_type": "display_data"
    }
   ],
   "source": [
    "fig, axes = plt.subplots(1, 3, figsize=(15, 4), sharey=True)\n",
    "axes[0].hist(filt_trans(transactions_test))\n",
    "axes[1].hist(filt_trans(transactions_control_1))\n",
    "axes[2].hist(filt_trans(transactions_control_2))"
   ]
  },
  {
   "cell_type": "code",
   "execution_count": 45,
   "metadata": {},
   "outputs": [
    {
     "name": "stdout",
     "output_type": "stream",
     "text": [
      "                 W          pval  normal\n",
      "lag_days  0.586354  1.345910e-22   False \n",
      "\n",
      "                 W          pval  normal\n",
      "lag_days  0.632923  8.437418e-25   False \n",
      "\n",
      "                 W          pval  normal\n",
      "lag_days  0.521819  3.761833e-26   False \n",
      "\n"
     ]
    }
   ],
   "source": [
    "print(f\"{pg.normality(filt_trans(transactions_test))} \\n\")\n",
    "\n",
    "print(f\"{pg.normality(filt_trans(transactions_control_1))} \\n\")\n",
    "\n",
    "print(f\"{pg.normality(filt_trans(transactions_control_2))} \\n\")"
   ]
  },
  {
   "cell_type": "markdown",
   "metadata": {},
   "source": [
    "Так как распределения не нормальны используем тест Крускала–Уоллиса"
   ]
  },
  {
   "cell_type": "code",
   "execution_count": 46,
   "metadata": {},
   "outputs": [
    {
     "data": {
      "text/plain": [
       "KruskalResult(statistic=5.802288173858514, pvalue=0.05496030470671236)"
      ]
     },
     "execution_count": 46,
     "metadata": {},
     "output_type": "execute_result"
    }
   ],
   "source": [
    "kruskal(filt_trans(transactions_test),\n",
    "        filt_trans(transactions_control_1),\n",
    "        filt_trans(transactions_control_2))"
   ]
  },
  {
   "cell_type": "markdown",
   "metadata": {},
   "source": [
    "H<sub>0</sub>: Распределения lag_days (времени между регистрацией и оплатой) в группах одинаковы.  \n",
    "H<sub>1</sub>: Распределения lag_days хотя бы в одной из групп отличаются\n",
    "\n",
    "Распределение lag_days среди пользователей в тестовой и контрольных группах не имеет статистически значимых отличий p-value = 0.055 по тесту Крускала–Уоллиса\n",
    "\n",
    "Так как p-value > 0.05, H<sub>0</sub> не отвергается\n",
    "\n",
    "Так как p-value очень близко к порогу 0.05 было принято решение проверить группы попарно"
   ]
  },
  {
   "cell_type": "code",
   "execution_count": 47,
   "metadata": {},
   "outputs": [
    {
     "data": {
      "text/plain": [
       "KruskalResult(statistic=0.38188832703318454, pvalue=0.5365943643357951)"
      ]
     },
     "execution_count": 47,
     "metadata": {},
     "output_type": "execute_result"
    }
   ],
   "source": [
    "kruskal(filt_trans(transactions_test),\n",
    "        filt_trans(transactions_control_1))"
   ]
  },
  {
   "cell_type": "markdown",
   "metadata": {},
   "source": [
    "H<sub>0</sub>: Распределения lag_days (времени между регистрацией и оплатой) в группах одинаковы.  \n",
    "H<sub>1</sub>: Распределения lag_days хотя бы в одной из групп отличаются\n",
    "\n",
    "Различия между test и control_1 по lag_days статистически незначимы p-value = 0.54 по тесту Крускала–Уоллиса\n",
    "\n",
    "Так как p-value > 0.05, H<sub>0</sub> не отвергается"
   ]
  },
  {
   "cell_type": "code",
   "execution_count": 48,
   "metadata": {},
   "outputs": [
    {
     "data": {
      "text/plain": [
       "KruskalResult(statistic=2.5803801758103972, pvalue=0.10819567318243986)"
      ]
     },
     "execution_count": 48,
     "metadata": {},
     "output_type": "execute_result"
    }
   ],
   "source": [
    "kruskal(filt_trans(transactions_test),\n",
    "        filt_trans(transactions_control_2))"
   ]
  },
  {
   "cell_type": "markdown",
   "metadata": {},
   "source": [
    "H<sub>0</sub>: Распределения lag_days (времени между регистрацией и оплатой) в группах одинаковы.  \n",
    "H<sub>1</sub>: Распределения lag_days хотя бы в одной из групп отличаются\n",
    "\n",
    "Различия между test и control_2 по lag_days статистически незначимы p-value = 0.11 по тесту Крускала–Уоллиса\n",
    "\n",
    "Так как p-value > 0.05, H<sub>0</sub> не отвергается"
   ]
  },
  {
   "cell_type": "code",
   "execution_count": 49,
   "metadata": {},
   "outputs": [
    {
     "data": {
      "text/plain": [
       "KruskalResult(statistic=5.496946351978433, pvalue=0.019049711280893913)"
      ]
     },
     "execution_count": 49,
     "metadata": {},
     "output_type": "execute_result"
    }
   ],
   "source": [
    "kruskal(filt_trans(transactions_control_1),\n",
    "        filt_trans(transactions_control_2))"
   ]
  },
  {
   "cell_type": "markdown",
   "metadata": {},
   "source": [
    "H<sub>0</sub>: Распределения lag_days (времени между регистрацией и оплатой) в группах одинаковы.  \n",
    "H<sub>1</sub>: Распределения lag_days хотя бы в одной из групп отличаются\n",
    "\n",
    "Различия между control_1 и control_2 по lag_days статистически значимы p-value = 0.02 по тесту Крускала–Уоллиса\n",
    "\n",
    "Так как p-value < 0.05, H<sub>0</sub> отвергается\n",
    "\n",
    "Следовательно контрольные группы не следует обьединять"
   ]
  },
  {
   "cell_type": "markdown",
   "metadata": {},
   "source": [
    "#### Группы в A/B тесте эквивалентны по ключевым признакам (age, attraction_coeff, country, visit_count). Однако при проверке времени между регистрацией и покупкой (lag_days) были выявлены статистически значимые различия между группами, что исключает возможность объединения контрольных групп при дальнейшем анализе. В связи с этим сравнение результатов эксперимента следует проводить отдельно для каждой из контрольных групп"
   ]
  },
  {
   "cell_type": "markdown",
   "metadata": {},
   "source": [
    "### В задании указано, что изменение цены затронуло пользователей из нескольких стран и при покупке через две новые платёжные системы. Однако в данных отсутствует информация о том, в каких именно странах это изменение происходило, и в данных отсутствует информация о самих платёжных системах или способах оплаты. Также не уточняется, в какую сторону изменилась цена. По этому анализ проводился на всех пользователях, без дополнительной фильтрации по этим признакам."
   ]
  },
  {
   "cell_type": "markdown",
   "metadata": {},
   "source": [
    "Объединим таблицы для более удобной дальнейшей работы"
   ]
  },
  {
   "cell_type": "code",
   "execution_count": 50,
   "metadata": {},
   "outputs": [
    {
     "data": {
      "text/html": [
       "<div>\n",
       "<style scoped>\n",
       "    .dataframe tbody tr th:only-of-type {\n",
       "        vertical-align: middle;\n",
       "    }\n",
       "\n",
       "    .dataframe tbody tr th {\n",
       "        vertical-align: top;\n",
       "    }\n",
       "\n",
       "    .dataframe thead th {\n",
       "        text-align: right;\n",
       "    }\n",
       "</style>\n",
       "<table border=\"1\" class=\"dataframe\">\n",
       "  <thead>\n",
       "    <tr style=\"text-align: right;\">\n",
       "      <th></th>\n",
       "      <th>uid</th>\n",
       "      <th>age</th>\n",
       "      <th>attraction_coeff</th>\n",
       "      <th>coins</th>\n",
       "      <th>country_user</th>\n",
       "      <th>visit_days</th>\n",
       "      <th>gender</th>\n",
       "      <th>age_filter_start</th>\n",
       "      <th>age_filter_end</th>\n",
       "      <th>views_count</th>\n",
       "      <th>...</th>\n",
       "      <th>total_revenue</th>\n",
       "      <th>visit_count</th>\n",
       "      <th>country_transaction</th>\n",
       "      <th>joined_at</th>\n",
       "      <th>paid_at</th>\n",
       "      <th>revenue</th>\n",
       "      <th>payment_id</th>\n",
       "      <th>from_page</th>\n",
       "      <th>product_type</th>\n",
       "      <th>lag_days</th>\n",
       "    </tr>\n",
       "  </thead>\n",
       "  <tbody>\n",
       "    <tr>\n",
       "      <th>0</th>\n",
       "      <td>891152790</td>\n",
       "      <td>29</td>\n",
       "      <td>769</td>\n",
       "      <td>NaN</td>\n",
       "      <td>Spain</td>\n",
       "      <td>2,5,6</td>\n",
       "      <td>1</td>\n",
       "      <td>16</td>\n",
       "      <td>32</td>\n",
       "      <td>13</td>\n",
       "      <td>...</td>\n",
       "      <td>12597</td>\n",
       "      <td>3</td>\n",
       "      <td>Spain</td>\n",
       "      <td>2017-08-11 18:39:00</td>\n",
       "      <td>2017-10-11 11:29:00</td>\n",
       "      <td>12597</td>\n",
       "      <td>147</td>\n",
       "      <td>dating</td>\n",
       "      <td>premium_no_trial</td>\n",
       "      <td>60</td>\n",
       "    </tr>\n",
       "    <tr>\n",
       "      <th>1</th>\n",
       "      <td>892333656</td>\n",
       "      <td>50</td>\n",
       "      <td>436</td>\n",
       "      <td>4.0</td>\n",
       "      <td>United States of America</td>\n",
       "      <td>1,2,3,4</td>\n",
       "      <td>1</td>\n",
       "      <td>47</td>\n",
       "      <td>53</td>\n",
       "      <td>126</td>\n",
       "      <td>...</td>\n",
       "      <td>897</td>\n",
       "      <td>4</td>\n",
       "      <td>United States of America</td>\n",
       "      <td>2017-10-16 01:45:00</td>\n",
       "      <td>2017-10-16 01:49:00</td>\n",
       "      <td>897</td>\n",
       "      <td>146</td>\n",
       "      <td>empty_likes</td>\n",
       "      <td>coins</td>\n",
       "      <td>0</td>\n",
       "    </tr>\n",
       "    <tr>\n",
       "      <th>2</th>\n",
       "      <td>891589239</td>\n",
       "      <td>21</td>\n",
       "      <td>303</td>\n",
       "      <td>37.0</td>\n",
       "      <td>Italy</td>\n",
       "      <td>1,2,3,4,5,6,7,8,9</td>\n",
       "      <td>1</td>\n",
       "      <td>18</td>\n",
       "      <td>24</td>\n",
       "      <td>181</td>\n",
       "      <td>...</td>\n",
       "      <td>37817</td>\n",
       "      <td>9</td>\n",
       "      <td>Italy</td>\n",
       "      <td>2017-10-31 14:16:00</td>\n",
       "      <td>2017-09-11 15:44:00</td>\n",
       "      <td>6305</td>\n",
       "      <td>19</td>\n",
       "      <td>empty_likes</td>\n",
       "      <td>coins</td>\n",
       "      <td>-50</td>\n",
       "    </tr>\n",
       "    <tr>\n",
       "      <th>3</th>\n",
       "      <td>891589239</td>\n",
       "      <td>21</td>\n",
       "      <td>303</td>\n",
       "      <td>37.0</td>\n",
       "      <td>Italy</td>\n",
       "      <td>1,2,3,4,5,6,7,8,9</td>\n",
       "      <td>1</td>\n",
       "      <td>18</td>\n",
       "      <td>24</td>\n",
       "      <td>181</td>\n",
       "      <td>...</td>\n",
       "      <td>37817</td>\n",
       "      <td>9</td>\n",
       "      <td>Italy</td>\n",
       "      <td>2017-10-31 14:16:00</td>\n",
       "      <td>2017-04-11 06:46:00</td>\n",
       "      <td>6305</td>\n",
       "      <td>19</td>\n",
       "      <td>autorefill</td>\n",
       "      <td>coins</td>\n",
       "      <td>-204</td>\n",
       "    </tr>\n",
       "    <tr>\n",
       "      <th>4</th>\n",
       "      <td>891589239</td>\n",
       "      <td>21</td>\n",
       "      <td>303</td>\n",
       "      <td>37.0</td>\n",
       "      <td>Italy</td>\n",
       "      <td>1,2,3,4,5,6,7,8,9</td>\n",
       "      <td>1</td>\n",
       "      <td>18</td>\n",
       "      <td>24</td>\n",
       "      <td>181</td>\n",
       "      <td>...</td>\n",
       "      <td>37817</td>\n",
       "      <td>9</td>\n",
       "      <td>Italy</td>\n",
       "      <td>2017-10-31 14:16:00</td>\n",
       "      <td>2017-10-31 16:07:00</td>\n",
       "      <td>12597</td>\n",
       "      <td>147</td>\n",
       "      <td>popular_users_chat</td>\n",
       "      <td>premium_no_trial</td>\n",
       "      <td>0</td>\n",
       "    </tr>\n",
       "  </tbody>\n",
       "</table>\n",
       "<p>5 rows × 22 columns</p>\n",
       "</div>"
      ],
      "text/plain": [
       "         uid  age  attraction_coeff  coins              country_user  \\\n",
       "0  891152790   29               769    NaN                     Spain   \n",
       "1  892333656   50               436    4.0  United States of America   \n",
       "2  891589239   21               303   37.0                     Italy   \n",
       "3  891589239   21               303   37.0                     Italy   \n",
       "4  891589239   21               303   37.0                     Italy   \n",
       "\n",
       "          visit_days  gender  age_filter_start  age_filter_end  views_count  \\\n",
       "0              2,5,6       1                16              32           13   \n",
       "1            1,2,3,4       1                47              53          126   \n",
       "2  1,2,3,4,5,6,7,8,9       1                18              24          181   \n",
       "3  1,2,3,4,5,6,7,8,9       1                18              24          181   \n",
       "4  1,2,3,4,5,6,7,8,9       1                18              24          181   \n",
       "\n",
       "   ...  total_revenue  visit_count       country_transaction  \\\n",
       "0  ...          12597            3                     Spain   \n",
       "1  ...            897            4  United States of America   \n",
       "2  ...          37817            9                     Italy   \n",
       "3  ...          37817            9                     Italy   \n",
       "4  ...          37817            9                     Italy   \n",
       "\n",
       "            joined_at             paid_at revenue payment_id  \\\n",
       "0 2017-08-11 18:39:00 2017-10-11 11:29:00   12597        147   \n",
       "1 2017-10-16 01:45:00 2017-10-16 01:49:00     897        146   \n",
       "2 2017-10-31 14:16:00 2017-09-11 15:44:00    6305         19   \n",
       "3 2017-10-31 14:16:00 2017-04-11 06:46:00    6305         19   \n",
       "4 2017-10-31 14:16:00 2017-10-31 16:07:00   12597        147   \n",
       "\n",
       "            from_page      product_type lag_days  \n",
       "0              dating  premium_no_trial       60  \n",
       "1         empty_likes             coins        0  \n",
       "2         empty_likes             coins      -50  \n",
       "3          autorefill             coins     -204  \n",
       "4  popular_users_chat  premium_no_trial        0  \n",
       "\n",
       "[5 rows x 22 columns]"
      ]
     },
     "execution_count": 50,
     "metadata": {},
     "output_type": "execute_result"
    }
   ],
   "source": [
    "test_group = pd.merge(users_test, transactions_test, on=['uid'], suffixes=('_user', '_transaction'))\n",
    "test_group.head()"
   ]
  },
  {
   "cell_type": "code",
   "execution_count": 51,
   "metadata": {
    "scrolled": false
   },
   "outputs": [
    {
     "data": {
      "text/html": [
       "<div>\n",
       "<style scoped>\n",
       "    .dataframe tbody tr th:only-of-type {\n",
       "        vertical-align: middle;\n",
       "    }\n",
       "\n",
       "    .dataframe tbody tr th {\n",
       "        vertical-align: top;\n",
       "    }\n",
       "\n",
       "    .dataframe thead th {\n",
       "        text-align: right;\n",
       "    }\n",
       "</style>\n",
       "<table border=\"1\" class=\"dataframe\">\n",
       "  <thead>\n",
       "    <tr style=\"text-align: right;\">\n",
       "      <th></th>\n",
       "      <th>uid</th>\n",
       "      <th>age</th>\n",
       "      <th>attraction_coeff</th>\n",
       "      <th>coins</th>\n",
       "      <th>country_user</th>\n",
       "      <th>visit_days</th>\n",
       "      <th>gender</th>\n",
       "      <th>age_filter_start</th>\n",
       "      <th>age_filter_end</th>\n",
       "      <th>views_count</th>\n",
       "      <th>...</th>\n",
       "      <th>total_revenue</th>\n",
       "      <th>visit_count</th>\n",
       "      <th>country_transaction</th>\n",
       "      <th>joined_at</th>\n",
       "      <th>paid_at</th>\n",
       "      <th>revenue</th>\n",
       "      <th>payment_id</th>\n",
       "      <th>from_page</th>\n",
       "      <th>product_type</th>\n",
       "      <th>lag_days</th>\n",
       "    </tr>\n",
       "  </thead>\n",
       "  <tbody>\n",
       "    <tr>\n",
       "      <th>0</th>\n",
       "      <td>891497961</td>\n",
       "      <td>28</td>\n",
       "      <td>400</td>\n",
       "      <td>28.0</td>\n",
       "      <td>Chile</td>\n",
       "      <td>1,2</td>\n",
       "      <td>1</td>\n",
       "      <td>25</td>\n",
       "      <td>31</td>\n",
       "      <td>25</td>\n",
       "      <td>...</td>\n",
       "      <td>6396</td>\n",
       "      <td>2</td>\n",
       "      <td>Chile</td>\n",
       "      <td>2017-02-11 15:07:00</td>\n",
       "      <td>2017-02-11 17:16:00</td>\n",
       "      <td>2418.0</td>\n",
       "      <td>67.0</td>\n",
       "      <td>gifts</td>\n",
       "      <td>other_type</td>\n",
       "      <td>0</td>\n",
       "    </tr>\n",
       "    <tr>\n",
       "      <th>1</th>\n",
       "      <td>891497961</td>\n",
       "      <td>28</td>\n",
       "      <td>400</td>\n",
       "      <td>28.0</td>\n",
       "      <td>Chile</td>\n",
       "      <td>1,2</td>\n",
       "      <td>1</td>\n",
       "      <td>25</td>\n",
       "      <td>31</td>\n",
       "      <td>25</td>\n",
       "      <td>...</td>\n",
       "      <td>6396</td>\n",
       "      <td>2</td>\n",
       "      <td>Chile</td>\n",
       "      <td>2017-02-11 15:07:00</td>\n",
       "      <td>2017-04-11 02:25:00</td>\n",
       "      <td>3978.0</td>\n",
       "      <td>146.0</td>\n",
       "      <td>empty_likes</td>\n",
       "      <td>coins</td>\n",
       "      <td>58</td>\n",
       "    </tr>\n",
       "    <tr>\n",
       "      <th>2</th>\n",
       "      <td>892380033</td>\n",
       "      <td>29</td>\n",
       "      <td>535</td>\n",
       "      <td>NaN</td>\n",
       "      <td>United States of America</td>\n",
       "      <td>1,2,3,4,5,6,7,8,9,10,11,12,13,14,15,16,17,18,1...</td>\n",
       "      <td>1</td>\n",
       "      <td>25</td>\n",
       "      <td>31</td>\n",
       "      <td>142</td>\n",
       "      <td>...</td>\n",
       "      <td>4732</td>\n",
       "      <td>31</td>\n",
       "      <td>United States of America</td>\n",
       "      <td>2017-10-15 09:11:00</td>\n",
       "      <td>2017-10-15 09:23:00</td>\n",
       "      <td>4732.0</td>\n",
       "      <td>147.0</td>\n",
       "      <td>left_sidebar_menu</td>\n",
       "      <td>premium_no_trial</td>\n",
       "      <td>0</td>\n",
       "    </tr>\n",
       "    <tr>\n",
       "      <th>3</th>\n",
       "      <td>891292845</td>\n",
       "      <td>22</td>\n",
       "      <td>0</td>\n",
       "      <td>NaN</td>\n",
       "      <td>Italy</td>\n",
       "      <td>NaN</td>\n",
       "      <td>1</td>\n",
       "      <td>19</td>\n",
       "      <td>40</td>\n",
       "      <td>0</td>\n",
       "      <td>...</td>\n",
       "      <td>1898</td>\n",
       "      <td>0</td>\n",
       "      <td>Italy</td>\n",
       "      <td>2017-06-11 03:51:00</td>\n",
       "      <td>2017-06-11 03:59:00</td>\n",
       "      <td>1898.0</td>\n",
       "      <td>68.0</td>\n",
       "      <td>none</td>\n",
       "      <td>premium_no_trial</td>\n",
       "      <td>0</td>\n",
       "    </tr>\n",
       "    <tr>\n",
       "      <th>4</th>\n",
       "      <td>892336797</td>\n",
       "      <td>24</td>\n",
       "      <td>255</td>\n",
       "      <td>NaN</td>\n",
       "      <td>United States of America</td>\n",
       "      <td>1,6,7,9,10,11,13,14</td>\n",
       "      <td>1</td>\n",
       "      <td>21</td>\n",
       "      <td>27</td>\n",
       "      <td>43</td>\n",
       "      <td>...</td>\n",
       "      <td>6292</td>\n",
       "      <td>8</td>\n",
       "      <td>United States of America</td>\n",
       "      <td>2017-10-16 00:21:00</td>\n",
       "      <td>2017-10-16 00:51:00</td>\n",
       "      <td>6292.0</td>\n",
       "      <td>147.0</td>\n",
       "      <td>send_message</td>\n",
       "      <td>premium_no_trial</td>\n",
       "      <td>0</td>\n",
       "    </tr>\n",
       "  </tbody>\n",
       "</table>\n",
       "<p>5 rows × 22 columns</p>\n",
       "</div>"
      ],
      "text/plain": [
       "         uid  age  attraction_coeff  coins              country_user  \\\n",
       "0  891497961   28               400   28.0                     Chile   \n",
       "1  891497961   28               400   28.0                     Chile   \n",
       "2  892380033   29               535    NaN  United States of America   \n",
       "3  891292845   22                 0    NaN                     Italy   \n",
       "4  892336797   24               255    NaN  United States of America   \n",
       "\n",
       "                                          visit_days  gender  \\\n",
       "0                                                1,2       1   \n",
       "1                                                1,2       1   \n",
       "2  1,2,3,4,5,6,7,8,9,10,11,12,13,14,15,16,17,18,1...       1   \n",
       "3                                                NaN       1   \n",
       "4                                1,6,7,9,10,11,13,14       1   \n",
       "\n",
       "   age_filter_start  age_filter_end  views_count  ...  total_revenue  \\\n",
       "0                25              31           25  ...           6396   \n",
       "1                25              31           25  ...           6396   \n",
       "2                25              31          142  ...           4732   \n",
       "3                19              40            0  ...           1898   \n",
       "4                21              27           43  ...           6292   \n",
       "\n",
       "   visit_count       country_transaction           joined_at  \\\n",
       "0            2                     Chile 2017-02-11 15:07:00   \n",
       "1            2                     Chile 2017-02-11 15:07:00   \n",
       "2           31  United States of America 2017-10-15 09:11:00   \n",
       "3            0                     Italy 2017-06-11 03:51:00   \n",
       "4            8  United States of America 2017-10-16 00:21:00   \n",
       "\n",
       "              paid_at revenue payment_id          from_page      product_type  \\\n",
       "0 2017-02-11 17:16:00  2418.0       67.0              gifts        other_type   \n",
       "1 2017-04-11 02:25:00  3978.0      146.0        empty_likes             coins   \n",
       "2 2017-10-15 09:23:00  4732.0      147.0  left_sidebar_menu  premium_no_trial   \n",
       "3 2017-06-11 03:59:00  1898.0       68.0               none  premium_no_trial   \n",
       "4 2017-10-16 00:51:00  6292.0      147.0       send_message  premium_no_trial   \n",
       "\n",
       "  lag_days  \n",
       "0        0  \n",
       "1       58  \n",
       "2        0  \n",
       "3        0  \n",
       "4        0  \n",
       "\n",
       "[5 rows x 22 columns]"
      ]
     },
     "execution_count": 51,
     "metadata": {},
     "output_type": "execute_result"
    }
   ],
   "source": [
    "control_1_group = pd.merge(users_control_1, transactions_control_1, on=['uid'], suffixes=('_user', '_transaction'))\n",
    "control_1_group.head()"
   ]
  },
  {
   "cell_type": "code",
   "execution_count": 52,
   "metadata": {
    "scrolled": true
   },
   "outputs": [
    {
     "data": {
      "text/html": [
       "<div>\n",
       "<style scoped>\n",
       "    .dataframe tbody tr th:only-of-type {\n",
       "        vertical-align: middle;\n",
       "    }\n",
       "\n",
       "    .dataframe tbody tr th {\n",
       "        vertical-align: top;\n",
       "    }\n",
       "\n",
       "    .dataframe thead th {\n",
       "        text-align: right;\n",
       "    }\n",
       "</style>\n",
       "<table border=\"1\" class=\"dataframe\">\n",
       "  <thead>\n",
       "    <tr style=\"text-align: right;\">\n",
       "      <th></th>\n",
       "      <th>uid</th>\n",
       "      <th>age</th>\n",
       "      <th>attraction_coeff</th>\n",
       "      <th>coins</th>\n",
       "      <th>country_user</th>\n",
       "      <th>visit_days</th>\n",
       "      <th>gender</th>\n",
       "      <th>age_filter_start</th>\n",
       "      <th>age_filter_end</th>\n",
       "      <th>views_count</th>\n",
       "      <th>...</th>\n",
       "      <th>total_revenue</th>\n",
       "      <th>visit_count</th>\n",
       "      <th>country_transaction</th>\n",
       "      <th>joined_at</th>\n",
       "      <th>paid_at</th>\n",
       "      <th>revenue</th>\n",
       "      <th>payment_id</th>\n",
       "      <th>from_page</th>\n",
       "      <th>product_type</th>\n",
       "      <th>lag_days</th>\n",
       "    </tr>\n",
       "  </thead>\n",
       "  <tbody>\n",
       "    <tr>\n",
       "      <th>0</th>\n",
       "      <td>892197879</td>\n",
       "      <td>28</td>\n",
       "      <td>71</td>\n",
       "      <td>NaN</td>\n",
       "      <td>Italy</td>\n",
       "      <td>1</td>\n",
       "      <td>1</td>\n",
       "      <td>25</td>\n",
       "      <td>31</td>\n",
       "      <td>14</td>\n",
       "      <td>...</td>\n",
       "      <td>2522</td>\n",
       "      <td>1</td>\n",
       "      <td>Italy</td>\n",
       "      <td>2017-10-18 22:22:00</td>\n",
       "      <td>2017-10-18 22:39:00</td>\n",
       "      <td>1261</td>\n",
       "      <td>19</td>\n",
       "      <td>gifts</td>\n",
       "      <td>coins</td>\n",
       "      <td>0</td>\n",
       "    </tr>\n",
       "    <tr>\n",
       "      <th>1</th>\n",
       "      <td>892197879</td>\n",
       "      <td>28</td>\n",
       "      <td>71</td>\n",
       "      <td>NaN</td>\n",
       "      <td>Italy</td>\n",
       "      <td>1</td>\n",
       "      <td>1</td>\n",
       "      <td>25</td>\n",
       "      <td>31</td>\n",
       "      <td>14</td>\n",
       "      <td>...</td>\n",
       "      <td>2522</td>\n",
       "      <td>1</td>\n",
       "      <td>Italy</td>\n",
       "      <td>2017-10-18 22:22:00</td>\n",
       "      <td>2017-10-19 01:57:00</td>\n",
       "      <td>1261</td>\n",
       "      <td>19</td>\n",
       "      <td>autorefill</td>\n",
       "      <td>coins</td>\n",
       "      <td>0</td>\n",
       "    </tr>\n",
       "    <tr>\n",
       "      <th>2</th>\n",
       "      <td>892164795</td>\n",
       "      <td>16</td>\n",
       "      <td>0</td>\n",
       "      <td>NaN</td>\n",
       "      <td>France</td>\n",
       "      <td>NaN</td>\n",
       "      <td>1</td>\n",
       "      <td>16</td>\n",
       "      <td>20</td>\n",
       "      <td>0</td>\n",
       "      <td>...</td>\n",
       "      <td>16562</td>\n",
       "      <td>0</td>\n",
       "      <td>France</td>\n",
       "      <td>2017-10-19 18:44:00</td>\n",
       "      <td>2017-10-26 20:48:00</td>\n",
       "      <td>16562</td>\n",
       "      <td>147</td>\n",
       "      <td>trial_vip_popup</td>\n",
       "      <td>trial_premium</td>\n",
       "      <td>7</td>\n",
       "    </tr>\n",
       "    <tr>\n",
       "      <th>3</th>\n",
       "      <td>892343331</td>\n",
       "      <td>30</td>\n",
       "      <td>1000</td>\n",
       "      <td>NaN</td>\n",
       "      <td>France</td>\n",
       "      <td>1</td>\n",
       "      <td>1</td>\n",
       "      <td>27</td>\n",
       "      <td>99</td>\n",
       "      <td>1</td>\n",
       "      <td>...</td>\n",
       "      <td>2873</td>\n",
       "      <td>1</td>\n",
       "      <td>France</td>\n",
       "      <td>2017-10-15 22:08:00</td>\n",
       "      <td>2017-10-15 23:24:00</td>\n",
       "      <td>2873</td>\n",
       "      <td>68</td>\n",
       "      <td>none</td>\n",
       "      <td>premium_no_trial</td>\n",
       "      <td>0</td>\n",
       "    </tr>\n",
       "    <tr>\n",
       "      <th>4</th>\n",
       "      <td>891668253</td>\n",
       "      <td>35</td>\n",
       "      <td>189</td>\n",
       "      <td>14.0</td>\n",
       "      <td>Chile</td>\n",
       "      <td>1,2,3,4,5,6,7,8,9,10,11,12,13,14,15,16,17</td>\n",
       "      <td>1</td>\n",
       "      <td>24</td>\n",
       "      <td>38</td>\n",
       "      <td>190</td>\n",
       "      <td>...</td>\n",
       "      <td>20085</td>\n",
       "      <td>17</td>\n",
       "      <td>Chile</td>\n",
       "      <td>2017-10-29 23:08:00</td>\n",
       "      <td>2017-10-11 14:16:00</td>\n",
       "      <td>6305</td>\n",
       "      <td>19</td>\n",
       "      <td>empty_likes</td>\n",
       "      <td>coins</td>\n",
       "      <td>-19</td>\n",
       "    </tr>\n",
       "  </tbody>\n",
       "</table>\n",
       "<p>5 rows × 22 columns</p>\n",
       "</div>"
      ],
      "text/plain": [
       "         uid  age  attraction_coeff  coins country_user  \\\n",
       "0  892197879   28                71    NaN        Italy   \n",
       "1  892197879   28                71    NaN        Italy   \n",
       "2  892164795   16                 0    NaN       France   \n",
       "3  892343331   30              1000    NaN       France   \n",
       "4  891668253   35               189   14.0        Chile   \n",
       "\n",
       "                                  visit_days  gender  age_filter_start  \\\n",
       "0                                          1       1                25   \n",
       "1                                          1       1                25   \n",
       "2                                        NaN       1                16   \n",
       "3                                          1       1                27   \n",
       "4  1,2,3,4,5,6,7,8,9,10,11,12,13,14,15,16,17       1                24   \n",
       "\n",
       "   age_filter_end  views_count  ...  total_revenue  visit_count  \\\n",
       "0              31           14  ...           2522            1   \n",
       "1              31           14  ...           2522            1   \n",
       "2              20            0  ...          16562            0   \n",
       "3              99            1  ...           2873            1   \n",
       "4              38          190  ...          20085           17   \n",
       "\n",
       "   country_transaction           joined_at             paid_at revenue  \\\n",
       "0                Italy 2017-10-18 22:22:00 2017-10-18 22:39:00    1261   \n",
       "1                Italy 2017-10-18 22:22:00 2017-10-19 01:57:00    1261   \n",
       "2               France 2017-10-19 18:44:00 2017-10-26 20:48:00   16562   \n",
       "3               France 2017-10-15 22:08:00 2017-10-15 23:24:00    2873   \n",
       "4                Chile 2017-10-29 23:08:00 2017-10-11 14:16:00    6305   \n",
       "\n",
       "  payment_id        from_page      product_type lag_days  \n",
       "0         19            gifts             coins        0  \n",
       "1         19       autorefill             coins        0  \n",
       "2        147  trial_vip_popup     trial_premium        7  \n",
       "3         68             none  premium_no_trial        0  \n",
       "4         19      empty_likes             coins      -19  \n",
       "\n",
       "[5 rows x 22 columns]"
      ]
     },
     "execution_count": 52,
     "metadata": {},
     "output_type": "execute_result"
    }
   ],
   "source": [
    "control_2_group = pd.merge(users_control_2, transactions_control_2, on=['uid'], suffixes=('_user', '_transaction'))\n",
    "control_2_group.head()"
   ]
  },
  {
   "cell_type": "markdown",
   "metadata": {},
   "source": [
    "#### Посчитаем конверсию"
   ]
  },
  {
   "cell_type": "code",
   "execution_count": 53,
   "metadata": {},
   "outputs": [
    {
     "data": {
      "text/plain": [
       "0.46"
      ]
     },
     "execution_count": 53,
     "metadata": {},
     "output_type": "execute_result"
    }
   ],
   "source": [
    "conversion_test = test_group.query('product_type == \"premium_no_trial\"')['uid'].nunique()/test_group['uid'].nunique()\n",
    "round(conversion_test, 2)"
   ]
  },
  {
   "cell_type": "code",
   "execution_count": 54,
   "metadata": {},
   "outputs": [
    {
     "data": {
      "text/plain": [
       "0.52"
      ]
     },
     "execution_count": 54,
     "metadata": {},
     "output_type": "execute_result"
    }
   ],
   "source": [
    "conversion_control_1 = control_1_group.query('product_type == \"premium_no_trial\"')['uid'].nunique()/control_1_group['uid'].nunique()\n",
    "round(conversion_control_1, 2)"
   ]
  },
  {
   "cell_type": "code",
   "execution_count": 55,
   "metadata": {},
   "outputs": [
    {
     "data": {
      "text/plain": [
       "0.55"
      ]
     },
     "execution_count": 55,
     "metadata": {},
     "output_type": "execute_result"
    }
   ],
   "source": [
    "conversion_control_2 = control_2_group.query('product_type == \"premium_no_trial\"')['uid'].nunique()/control_2_group['uid'].nunique()\n",
    "round(conversion_control_2, 2)"
   ]
  },
  {
   "cell_type": "markdown",
   "metadata": {},
   "source": [
    "Конверсия в премиум-подписку в тестовой группе составила 46%, тогда как в контрольных группах — 52% и 55%.\n",
    "Похоже на то что после изменения цен пользователи стали реже оформлять подписку, но для того чтобы сделать обоснованные выводы, необходимо проверить статистическую значимость этой разницы"
   ]
  },
  {
   "cell_type": "code",
   "execution_count": 56,
   "metadata": {},
   "outputs": [],
   "source": [
    "paying_test = test_group.query('product_type == \"premium_no_trial\"')['uid'].nunique()\n",
    "paying_control_1 = control_1_group.query('product_type == \"premium_no_trial\"')['uid'].nunique()\n",
    "paying_control_2 = control_2_group.query('product_type == \"premium_no_trial\"')['uid'].nunique()\n",
    "\n",
    "total_test = test_group['uid'].nunique()\n",
    "total_control_1 = control_1_group['uid'].nunique()\n",
    "total_control_2 = control_2_group['uid'].nunique()"
   ]
  },
  {
   "cell_type": "code",
   "execution_count": 57,
   "metadata": {},
   "outputs": [
    {
     "data": {
      "text/plain": [
       "(-1.0332613028796895, 0.30148163139017925)"
      ]
     },
     "execution_count": 57,
     "metadata": {},
     "output_type": "execute_result"
    }
   ],
   "source": [
    "proportions_ztest([paying_test, paying_control_1], [total_test, total_control_1])"
   ]
  },
  {
   "cell_type": "markdown",
   "metadata": {},
   "source": [
    "H<sub>0</sub>: Доля пользователей, купивших premium_no_trial, в группах одинакова.  \n",
    "H<sub>1</sub>: Доли пользователей, купивших premium_no_trial, в группах различаются.\n",
    "\n",
    "Для проверки использован z-тест для пропорций, использующийся при сравнении долей между независимыми выборками \n",
    "По результатам теста между тестовой группой и контрольной группой 1 различий не выявлено p-value = 0.3\n",
    "\n",
    "Так как p-value > 0.05, H<sub>0</sub> не отвергается.\n",
    "\n",
    "Это означает, что изменение цены не повлияло на долю пользователей, оформивших подписку."
   ]
  },
  {
   "cell_type": "code",
   "execution_count": 58,
   "metadata": {},
   "outputs": [
    {
     "data": {
      "text/plain": [
       "(-1.5675569608453586, 0.11698456308002696)"
      ]
     },
     "execution_count": 58,
     "metadata": {},
     "output_type": "execute_result"
    }
   ],
   "source": [
    "proportions_ztest([paying_test, paying_control_2], [total_test, total_control_2])"
   ]
  },
  {
   "cell_type": "markdown",
   "metadata": {},
   "source": [
    "H<sub>0</sub>: Доля пользователей, купивших premium_no_trial, в группах одинакова.  \n",
    "H<sub>1</sub>: Доли пользователей, купивших premium_no_trial, в группах различаются.\n",
    "\n",
    "Для проверки использован z-тест для пропорций, использующийся при сравнении долей между независимыми выборками \n",
    "По результатам теста между тестовой группой и контрольной группой 2 различий не выявлено p-value = 0.117\n",
    "\n",
    "Так как p-value > 0.05, H<sub>0</sub> не отвергается.\n",
    "\n",
    "Это означает, что изменение цены не повлияло на долю пользователей, оформивших подписку."
   ]
  },
  {
   "cell_type": "markdown",
   "metadata": {},
   "source": [
    "Несмотря на то, что конверсии визуально отличаются, статистически они не различаются, стоит посмотреть __ARPU__"
   ]
  },
  {
   "cell_type": "code",
   "execution_count": 59,
   "metadata": {},
   "outputs": [
    {
     "data": {
      "text/plain": [
       "188.186165273909"
      ]
     },
     "execution_count": 59,
     "metadata": {},
     "output_type": "execute_result"
    }
   ],
   "source": [
    "arpu_test = test_group.query('product_type == \"premium_no_trial\"')['revenue'].sum() / users_test['uid'].nunique()\n",
    "arpu_test"
   ]
  },
  {
   "cell_type": "code",
   "execution_count": 60,
   "metadata": {},
   "outputs": [
    {
     "data": {
      "text/plain": [
       "179.5527649769585"
      ]
     },
     "execution_count": 60,
     "metadata": {},
     "output_type": "execute_result"
    }
   ],
   "source": [
    "arpu_control_1 = control_1_group.query('product_type == \"premium_no_trial\"')['revenue'].sum() / users_control_1['uid'].nunique()\n",
    "arpu_control_1"
   ]
  },
  {
   "cell_type": "code",
   "execution_count": 61,
   "metadata": {},
   "outputs": [
    {
     "data": {
      "text/plain": [
       "174.6737804878049"
      ]
     },
     "execution_count": 61,
     "metadata": {},
     "output_type": "execute_result"
    }
   ],
   "source": [
    "arpu_control_2 = control_2_group.query('product_type == \"premium_no_trial\"')['revenue'].sum() / users_control_2['uid'].nunique()\n",
    "arpu_control_2"
   ]
  },
  {
   "cell_type": "markdown",
   "metadata": {},
   "source": [
    "ARPU в тестовой группе больше чем в контрольных группах\n",
    "\n",
    "Сравним распределения"
   ]
  },
  {
   "cell_type": "code",
   "execution_count": 62,
   "metadata": {},
   "outputs": [],
   "source": [
    "arpu_test = test_group.query('product_type == \"premium_no_trial\"').groupby('uid')['revenue'].sum()\n",
    "arpu_test = pd.merge(users_test[['uid']], arpu_test, on='uid', how='left')\n",
    "arpu_test['revenue'] = arpu_test['revenue'].fillna(0)"
   ]
  },
  {
   "cell_type": "code",
   "execution_count": 63,
   "metadata": {},
   "outputs": [
    {
     "data": {
      "text/html": [
       "<div>\n",
       "<style scoped>\n",
       "    .dataframe tbody tr th:only-of-type {\n",
       "        vertical-align: middle;\n",
       "    }\n",
       "\n",
       "    .dataframe tbody tr th {\n",
       "        vertical-align: top;\n",
       "    }\n",
       "\n",
       "    .dataframe thead th {\n",
       "        text-align: right;\n",
       "    }\n",
       "</style>\n",
       "<table border=\"1\" class=\"dataframe\">\n",
       "  <thead>\n",
       "    <tr style=\"text-align: right;\">\n",
       "      <th></th>\n",
       "      <th>W</th>\n",
       "      <th>pval</th>\n",
       "      <th>normal</th>\n",
       "    </tr>\n",
       "  </thead>\n",
       "  <tbody>\n",
       "    <tr>\n",
       "      <th>uid</th>\n",
       "      <td>0.800486</td>\n",
       "      <td>0.0</td>\n",
       "      <td>False</td>\n",
       "    </tr>\n",
       "    <tr>\n",
       "      <th>revenue</th>\n",
       "      <td>0.039676</td>\n",
       "      <td>0.0</td>\n",
       "      <td>False</td>\n",
       "    </tr>\n",
       "  </tbody>\n",
       "</table>\n",
       "</div>"
      ],
      "text/plain": [
       "                W  pval  normal\n",
       "uid      0.800486   0.0   False\n",
       "revenue  0.039676   0.0   False"
      ]
     },
     "execution_count": 63,
     "metadata": {},
     "output_type": "execute_result"
    }
   ],
   "source": [
    "pg.normality(arpu_test)"
   ]
  },
  {
   "cell_type": "code",
   "execution_count": 64,
   "metadata": {},
   "outputs": [],
   "source": [
    "arpu_control_1 = control_1_group.query('product_type == \"premium_no_trial\"').groupby('uid')['revenue'].sum()\n",
    "arpu_control_1 = pd.merge(users_control_1[['uid']], arpu_control_1, on='uid', how='left')\n",
    "arpu_control_1['revenue'] = arpu_control_1['revenue'].fillna(0)"
   ]
  },
  {
   "cell_type": "code",
   "execution_count": 65,
   "metadata": {},
   "outputs": [
    {
     "data": {
      "text/html": [
       "<div>\n",
       "<style scoped>\n",
       "    .dataframe tbody tr th:only-of-type {\n",
       "        vertical-align: middle;\n",
       "    }\n",
       "\n",
       "    .dataframe tbody tr th {\n",
       "        vertical-align: top;\n",
       "    }\n",
       "\n",
       "    .dataframe thead th {\n",
       "        text-align: right;\n",
       "    }\n",
       "</style>\n",
       "<table border=\"1\" class=\"dataframe\">\n",
       "  <thead>\n",
       "    <tr style=\"text-align: right;\">\n",
       "      <th></th>\n",
       "      <th>W</th>\n",
       "      <th>pval</th>\n",
       "      <th>normal</th>\n",
       "    </tr>\n",
       "  </thead>\n",
       "  <tbody>\n",
       "    <tr>\n",
       "      <th>uid</th>\n",
       "      <td>0.163459</td>\n",
       "      <td>0.0</td>\n",
       "      <td>False</td>\n",
       "    </tr>\n",
       "    <tr>\n",
       "      <th>revenue</th>\n",
       "      <td>0.058926</td>\n",
       "      <td>0.0</td>\n",
       "      <td>False</td>\n",
       "    </tr>\n",
       "  </tbody>\n",
       "</table>\n",
       "</div>"
      ],
      "text/plain": [
       "                W  pval  normal\n",
       "uid      0.163459   0.0   False\n",
       "revenue  0.058926   0.0   False"
      ]
     },
     "execution_count": 65,
     "metadata": {},
     "output_type": "execute_result"
    }
   ],
   "source": [
    "pg.normality(arpu_control_1)"
   ]
  },
  {
   "cell_type": "code",
   "execution_count": 66,
   "metadata": {},
   "outputs": [],
   "source": [
    "arpu_control_2 = control_2_group.query('product_type == \"premium_no_trial\"').groupby('uid')['revenue'].sum()\n",
    "arpu_control_2 = pd.merge(users_control_2[['uid']], arpu_control_2, on='uid', how='left')\n",
    "arpu_control_2['revenue'] = arpu_control_2['revenue'].fillna(0)"
   ]
  },
  {
   "cell_type": "code",
   "execution_count": 67,
   "metadata": {},
   "outputs": [
    {
     "data": {
      "text/html": [
       "<div>\n",
       "<style scoped>\n",
       "    .dataframe tbody tr th:only-of-type {\n",
       "        vertical-align: middle;\n",
       "    }\n",
       "\n",
       "    .dataframe tbody tr th {\n",
       "        vertical-align: top;\n",
       "    }\n",
       "\n",
       "    .dataframe thead th {\n",
       "        text-align: right;\n",
       "    }\n",
       "</style>\n",
       "<table border=\"1\" class=\"dataframe\">\n",
       "  <thead>\n",
       "    <tr style=\"text-align: right;\">\n",
       "      <th></th>\n",
       "      <th>W</th>\n",
       "      <th>pval</th>\n",
       "      <th>normal</th>\n",
       "    </tr>\n",
       "  </thead>\n",
       "  <tbody>\n",
       "    <tr>\n",
       "      <th>uid</th>\n",
       "      <td>0.048202</td>\n",
       "      <td>0.0</td>\n",
       "      <td>False</td>\n",
       "    </tr>\n",
       "    <tr>\n",
       "      <th>revenue</th>\n",
       "      <td>0.063177</td>\n",
       "      <td>0.0</td>\n",
       "      <td>False</td>\n",
       "    </tr>\n",
       "  </tbody>\n",
       "</table>\n",
       "</div>"
      ],
      "text/plain": [
       "                W  pval  normal\n",
       "uid      0.048202   0.0   False\n",
       "revenue  0.063177   0.0   False"
      ]
     },
     "execution_count": 67,
     "metadata": {},
     "output_type": "execute_result"
    }
   ],
   "source": [
    "pg.normality(arpu_control_2)"
   ]
  },
  {
   "cell_type": "markdown",
   "metadata": {},
   "source": [
    "Так как распределения ARPU не являются нормальными (по результатам теста Шапиро–Уилка),  \n",
    "для оценки статистически значимых различий между группами будет использован bootstrap-метод.  \n",
    "Он позволяет сравнивать средние значения без предположений о распределении данных."
   ]
  },
  {
   "cell_type": "markdown",
   "metadata": {},
   "source": [
    "Подготовим данные"
   ]
  },
  {
   "cell_type": "code",
   "execution_count": 68,
   "metadata": {},
   "outputs": [],
   "source": [
    "arpu_test_vals = arpu_test['revenue'].values\n",
    "arpu_control_1_vals = arpu_control_1['revenue'].values\n",
    "arpu_control_2_vals = arpu_control_2['revenue'].values"
   ]
  },
  {
   "cell_type": "markdown",
   "metadata": {},
   "source": [
    "Функция бутстрапа"
   ]
  },
  {
   "cell_type": "code",
   "execution_count": 69,
   "metadata": {},
   "outputs": [],
   "source": [
    "def bootstrap_mean_diff(a, b, n_bootstrap=10000):\n",
    "    boot_diffs = []\n",
    "    for i in range(n_bootstrap):\n",
    "        sample_a = np.random.choice(a, size=len(a), replace=True)\n",
    "        sample_b = np.random.choice(b, size=len(b), replace=True)\n",
    "        boot_diffs.append(np.mean(sample_a) - np.mean(sample_b))\n",
    "    return np.array(boot_diffs)"
   ]
  },
  {
   "cell_type": "code",
   "execution_count": 70,
   "metadata": {},
   "outputs": [
    {
     "name": "stdout",
     "output_type": "stream",
     "text": [
      "95% CI: [-89.04, 113.62], p-value: 0.4406\n"
     ]
    }
   ],
   "source": [
    "boot_dist = bootstrap_mean_diff(arpu_test_vals, arpu_control_1_vals)\n",
    "\n",
    "# 95% доверительный интервал\n",
    "ci_lower = np.percentile(boot_dist, 2.5)\n",
    "ci_upper = np.percentile(boot_dist, 97.5)\n",
    "\n",
    "# p-value (двусторонняя проверка — насколько далеко ноль)\n",
    "p_value = (np.sum(boot_dist <= 0) if np.mean(boot_dist) > 0 else np.sum(boot_dist >= 0)) / len(boot_dist)\n",
    "\n",
    "print(f\"95% CI: [{ci_lower:.2f}, {ci_upper:.2f}], p-value: {p_value:.4f}\")\n"
   ]
  },
  {
   "cell_type": "markdown",
   "metadata": {},
   "source": [
    "H<sub>0</sub>: Средние значения ARPU в тестовой и первой контрольной группе равны.  \n",
    "H<sub>1</sub>: Средние значения ARPU в группах различаются.\n",
    "\n",
    "Для оценки различий использован bootstrap-метод (n=10000), так как распределения не являются нормальными\n",
    "\n",
    "95% доверительный интервал разности средних: [-89.04, 113.62]\n",
    "\n",
    "p-value = 0.4406\n",
    "\n",
    "Так как p-value > 0.05 и доверительный интервал включает 0, H<sub>0</sub> не отвергается\n",
    "\n",
    "Статистически значимых различий в ARPU между тестовой и первой контрольной группой не обнаружено\n"
   ]
  },
  {
   "cell_type": "code",
   "execution_count": 71,
   "metadata": {},
   "outputs": [
    {
     "name": "stdout",
     "output_type": "stream",
     "text": [
      "95% CI: [-78.67, 116.57], p-value: 0.4074\n"
     ]
    }
   ],
   "source": [
    "boot_dist = bootstrap_mean_diff(arpu_test_vals, arpu_control_2_vals)\n",
    "\n",
    "# 95% доверительный интервал\n",
    "ci_lower = np.percentile(boot_dist, 2.5)\n",
    "ci_upper = np.percentile(boot_dist, 97.5)\n",
    "\n",
    "# p-value (двусторонняя проверка — насколько далеко ноль)\n",
    "p_value = (np.sum(boot_dist <= 0) if np.mean(boot_dist) > 0 else np.sum(boot_dist >= 0)) / len(boot_dist)\n",
    "\n",
    "print(f\"95% CI: [{ci_lower:.2f}, {ci_upper:.2f}], p-value: {p_value:.4f}\")\n"
   ]
  },
  {
   "cell_type": "markdown",
   "metadata": {},
   "source": [
    "H<sub>0</sub>: Средние значения ARPU в тестовой и второй контрольной группе равны.  \n",
    "H<sub>1</sub>: Средние значения ARPU в группах различаются.\n",
    "\n",
    "Для оценки различий использован bootstrap-метод (n=10000), так как распределения не являются нормальными\n",
    "\n",
    "95% доверительный интервал разности средних: [-78.67, 116.57]\n",
    "\n",
    "p-value = 0.4074\n",
    "\n",
    "Так как p-value > 0.05 и доверительный интервал включает 0, H<sub>0</sub> не отвергается\n",
    "\n",
    "Различия в ARPU между тестовой и второй контрольной группой статистически не подтверждаются\n"
   ]
  },
  {
   "cell_type": "markdown",
   "metadata": {},
   "source": [
    "Таким образом, изменение стоимости премиум-подписки не оказало статистически значимого влияния на ARPU:  \n",
    "ни по сравнению с первой контрольной группой, ни по сравнению со второй.  \n",
    "Наблюдаемое увеличение среднего значения ARPU в тестовой группе не подтверждается статистически (bootstrap, p > 0.4).  \n",
    "Следовательно, новая ценовая модель не повлияла на выручку на одного пользователя."
   ]
  },
  {
   "cell_type": "markdown",
   "metadata": {},
   "source": [
    "    \n",
    "        "
   ]
  },
  {
   "cell_type": "markdown",
   "metadata": {},
   "source": [
    "    "
   ]
  },
  {
   "cell_type": "markdown",
   "metadata": {},
   "source": [
    "Изначально по ошибке был использован тест Манна–Уитни"
   ]
  },
  {
   "cell_type": "code",
   "execution_count": 72,
   "metadata": {},
   "outputs": [
    {
     "data": {
      "text/html": [
       "<div>\n",
       "<style scoped>\n",
       "    .dataframe tbody tr th:only-of-type {\n",
       "        vertical-align: middle;\n",
       "    }\n",
       "\n",
       "    .dataframe tbody tr th {\n",
       "        vertical-align: top;\n",
       "    }\n",
       "\n",
       "    .dataframe thead th {\n",
       "        text-align: right;\n",
       "    }\n",
       "</style>\n",
       "<table border=\"1\" class=\"dataframe\">\n",
       "  <thead>\n",
       "    <tr style=\"text-align: right;\">\n",
       "      <th></th>\n",
       "      <th>U-val</th>\n",
       "      <th>alternative</th>\n",
       "      <th>p-val</th>\n",
       "      <th>RBC</th>\n",
       "      <th>CLES</th>\n",
       "    </tr>\n",
       "  </thead>\n",
       "  <tbody>\n",
       "    <tr>\n",
       "      <th>MWU</th>\n",
       "      <td>9282137.0</td>\n",
       "      <td>two-sided</td>\n",
       "      <td>0.016384</td>\n",
       "      <td>0.007084</td>\n",
       "      <td>0.496458</td>\n",
       "    </tr>\n",
       "  </tbody>\n",
       "</table>\n",
       "</div>"
      ],
      "text/plain": [
       "         U-val alternative     p-val       RBC      CLES\n",
       "MWU  9282137.0   two-sided  0.016384  0.007084  0.496458"
      ]
     },
     "execution_count": 72,
     "metadata": {},
     "output_type": "execute_result"
    }
   ],
   "source": [
    "pg.mwu(arpu_test['revenue'], arpu_control_1['revenue'])"
   ]
  },
  {
   "cell_type": "code",
   "execution_count": 73,
   "metadata": {},
   "outputs": [
    {
     "data": {
      "text/html": [
       "<div>\n",
       "<style scoped>\n",
       "    .dataframe tbody tr th:only-of-type {\n",
       "        vertical-align: middle;\n",
       "    }\n",
       "\n",
       "    .dataframe tbody tr th {\n",
       "        vertical-align: top;\n",
       "    }\n",
       "\n",
       "    .dataframe thead th {\n",
       "        text-align: right;\n",
       "    }\n",
       "</style>\n",
       "<table border=\"1\" class=\"dataframe\">\n",
       "  <thead>\n",
       "    <tr style=\"text-align: right;\">\n",
       "      <th></th>\n",
       "      <th>U-val</th>\n",
       "      <th>alternative</th>\n",
       "      <th>p-val</th>\n",
       "      <th>RBC</th>\n",
       "      <th>CLES</th>\n",
       "    </tr>\n",
       "  </thead>\n",
       "  <tbody>\n",
       "    <tr>\n",
       "      <th>MWU</th>\n",
       "      <td>9109409.5</td>\n",
       "      <td>two-sided</td>\n",
       "      <td>0.006378</td>\n",
       "      <td>0.008193</td>\n",
       "      <td>0.495904</td>\n",
       "    </tr>\n",
       "  </tbody>\n",
       "</table>\n",
       "</div>"
      ],
      "text/plain": [
       "         U-val alternative     p-val       RBC      CLES\n",
       "MWU  9109409.5   two-sided  0.006378  0.008193  0.495904"
      ]
     },
     "execution_count": 73,
     "metadata": {},
     "output_type": "execute_result"
    }
   ],
   "source": [
    "pg.mwu(arpu_test['revenue'], arpu_control_2['revenue'])"
   ]
  },
  {
   "cell_type": "markdown",
   "metadata": {},
   "source": [
    "Важно отметить, что тест Манна–Уитни показывает статистически значимые различия (p < 0.05),\n",
    "однако этот тест сравнивает не средние значения, а распределения рангов\n",
    "Так как нас интересует именно влияние на среднюю выручку на пользователя (ARPU),\n",
    "для корректной оценки использован bootstrap-метод, сравнивающий средние значения напрямую\n",
    "\n",
    "После перехода на bootstrap-оценку, статистически значимых различий в ARPU обнаружено не было\n",
    "\n",
    "Таким образом, выводы изменились: при корректном сравнении средних разница отсутствует"
   ]
  },
  {
   "cell_type": "markdown",
   "metadata": {},
   "source": [
    "    "
   ]
  },
  {
   "cell_type": "markdown",
   "metadata": {},
   "source": [
    "    "
   ]
  },
  {
   "cell_type": "markdown",
   "metadata": {},
   "source": [
    "Переходим к __ARPPU__"
   ]
  },
  {
   "cell_type": "code",
   "execution_count": 74,
   "metadata": {},
   "outputs": [
    {
     "data": {
      "text/plain": [
       "12100.089552238805"
      ]
     },
     "execution_count": 74,
     "metadata": {},
     "output_type": "execute_result"
    }
   ],
   "source": [
    "arppu_test = arpu_test.query('revenue > 0')['revenue'].mean()\n",
    "arppu_test"
   ]
  },
  {
   "cell_type": "code",
   "execution_count": 75,
   "metadata": {},
   "outputs": [
    {
     "data": {
      "text/plain": [
       "7871.30303030303"
      ]
     },
     "execution_count": 75,
     "metadata": {},
     "output_type": "execute_result"
    }
   ],
   "source": [
    "arppu_control_1 = arpu_control_1.query('revenue > 0')['revenue'].mean()\n",
    "arppu_control_1"
   ]
  },
  {
   "cell_type": "code",
   "execution_count": 76,
   "metadata": {},
   "outputs": [
    {
     "data": {
      "text/plain": [
       "7302.049019607844"
      ]
     },
     "execution_count": 76,
     "metadata": {},
     "output_type": "execute_result"
    }
   ],
   "source": [
    "arppu_control_2 = arpu_control_2.query('revenue > 0')['revenue'].mean()\n",
    "arppu_control_2"
   ]
  },
  {
   "cell_type": "markdown",
   "metadata": {},
   "source": [
    "Платящие пользователи из тестовой группы тратят значимо больше, чем платящие из любой контрольной\n",
    "\n",
    "Это может означать, что новая цена в тестовой группе действительно эффективнее монетизирует активных пользователей"
   ]
  },
  {
   "cell_type": "code",
   "execution_count": 77,
   "metadata": {},
   "outputs": [],
   "source": [
    "arppu_test_vals = arpu_test.query('revenue > 0')[\"revenue\"]\n",
    "arppu_control_1_vals = arpu_control_1.query('revenue > 0')[\"revenue\"]\n",
    "arppu_control_2_vals = arpu_control_2.query('revenue > 0')[\"revenue\"]"
   ]
  },
  {
   "cell_type": "code",
   "execution_count": 78,
   "metadata": {},
   "outputs": [
    {
     "name": "stdout",
     "output_type": "stream",
     "text": [
      "95% CI: [-67.41, 9539.20], p-value: 0.0273\n"
     ]
    }
   ],
   "source": [
    "boot_dist = bootstrap_mean_diff(arppu_test_vals, arppu_control_1_vals)\n",
    "\n",
    "# 95% доверительный интервал\n",
    "ci_lower = np.percentile(boot_dist, 2.5)\n",
    "ci_upper = np.percentile(boot_dist, 97.5)\n",
    "\n",
    "# p-value (двусторонняя проверка — насколько далеко ноль)\n",
    "p_value = (np.sum(boot_dist <= 0) if np.mean(boot_dist) > 0 else np.sum(boot_dist >= 0)) / len(boot_dist)\n",
    "\n",
    "print(f\"95% CI: [{ci_lower:.2f}, {ci_upper:.2f}], p-value: {p_value:.4f}\")\n"
   ]
  },
  {
   "cell_type": "markdown",
   "metadata": {},
   "source": [
    "H<sub>0</sub>: Средние значения ARPPU в тестовой и первой контрольной группе равны.  \n",
    "H<sub>1</sub>: Средние значения ARPPU в группах различаются.\n",
    "\n",
    "Для оценки различий использован bootstrap-метод (n=10000), так как распределения не являются нормальными.\n",
    "\n",
    "95% доверительный интервал разности средних: [-67.41, 9539.20]\n",
    "\n",
    "p-value = 0.0273\n",
    "\n",
    "p-value < 0.05, однако доверительный интервал включает 0.\n",
    "\n",
    "Это не позволяет с уверенностью отвергнуть H<sub>0</sub>, хотя результат гранично значимый\n",
    "\n",
    "Различия в ARPPU между тестовой и первой контрольной группой потенциально существуют, но статистическая уверенность недостаточна"
   ]
  },
  {
   "cell_type": "code",
   "execution_count": 79,
   "metadata": {},
   "outputs": [
    {
     "name": "stdout",
     "output_type": "stream",
     "text": [
      "95% CI: [625.33, 10093.94], p-value: 0.0098\n"
     ]
    }
   ],
   "source": [
    "boot_dist = bootstrap_mean_diff(arppu_test_vals, arppu_control_2_vals)\n",
    "\n",
    "# 95% доверительный интервал\n",
    "ci_lower = np.percentile(boot_dist, 2.5)\n",
    "ci_upper = np.percentile(boot_dist, 97.5)\n",
    "\n",
    "# p-value (двусторонняя проверка — насколько далеко ноль)\n",
    "p_value = (np.sum(boot_dist <= 0) if np.mean(boot_dist) > 0 else np.sum(boot_dist >= 0)) / len(boot_dist)\n",
    "\n",
    "print(f\"95% CI: [{ci_lower:.2f}, {ci_upper:.2f}], p-value: {p_value:.4f}\")\n"
   ]
  },
  {
   "cell_type": "markdown",
   "metadata": {},
   "source": [
    "H<sub>0</sub>: Средние значения ARPPU в тестовой и второй контрольной группе равны.  \n",
    "H<sub>1</sub>: Средние значения ARPPU в группах различаются.\n",
    "\n",
    "95% доверительный интервал разности средних: [625.33, 10093.94]\n",
    "\n",
    "p-value = 0.0098\n",
    "\n",
    "CI не включает 0, а p-value < 0.01 - H<sub>0</sub> отвергается\n",
    "\n",
    "Новая ценовая модель в тестовой группе существенно увеличивает ARPPU, по сравнению со второй контрольной группой\n",
    "\n",
    "Изменение цены положительно повлияло на среднюю выручку с одного платящего пользователя."
   ]
  },
  {
   "cell_type": "markdown",
   "metadata": {},
   "source": [
    "Таким образом, несмотря на отсутствие различий в ARPU, тестовая группа демонстрирует статистически значимо более высокий ARPPU по сравнению как минимум с одной контрольной группой\n",
    "\n",
    "Это говорит о том, что новая цена может быть эффективной с точки зрения монетизации активных пользователей"
   ]
  },
  {
   "cell_type": "markdown",
   "metadata": {},
   "source": [
    "    "
   ]
  },
  {
   "cell_type": "markdown",
   "metadata": {},
   "source": [
    "    "
   ]
  },
  {
   "cell_type": "markdown",
   "metadata": {},
   "source": [
    "Изначально по ошибке был использован тест Манна–Уитни"
   ]
  },
  {
   "cell_type": "code",
   "execution_count": 80,
   "metadata": {},
   "outputs": [
    {
     "data": {
      "text/html": [
       "<div>\n",
       "<style scoped>\n",
       "    .dataframe tbody tr th:only-of-type {\n",
       "        vertical-align: middle;\n",
       "    }\n",
       "\n",
       "    .dataframe tbody tr th {\n",
       "        vertical-align: top;\n",
       "    }\n",
       "\n",
       "    .dataframe thead th {\n",
       "        text-align: right;\n",
       "    }\n",
       "</style>\n",
       "<table border=\"1\" class=\"dataframe\">\n",
       "  <thead>\n",
       "    <tr style=\"text-align: right;\">\n",
       "      <th></th>\n",
       "      <th>U-val</th>\n",
       "      <th>alternative</th>\n",
       "      <th>p-val</th>\n",
       "      <th>RBC</th>\n",
       "      <th>CLES</th>\n",
       "    </tr>\n",
       "  </thead>\n",
       "  <tbody>\n",
       "    <tr>\n",
       "      <th>MWU</th>\n",
       "      <td>4949.5</td>\n",
       "      <td>two-sided</td>\n",
       "      <td>5.962669e-08</td>\n",
       "      <td>-0.492387</td>\n",
       "      <td>0.746193</td>\n",
       "    </tr>\n",
       "  </tbody>\n",
       "</table>\n",
       "</div>"
      ],
      "text/plain": [
       "      U-val alternative         p-val       RBC      CLES\n",
       "MWU  4949.5   two-sided  5.962669e-08 -0.492387  0.746193"
      ]
     },
     "execution_count": 80,
     "metadata": {},
     "output_type": "execute_result"
    }
   ],
   "source": [
    "pg.mwu(arpu_test.query('revenue > 0')['revenue'],\n",
    "       arpu_control_1.query('revenue > 0')['revenue'])"
   ]
  },
  {
   "cell_type": "code",
   "execution_count": 81,
   "metadata": {},
   "outputs": [
    {
     "data": {
      "text/html": [
       "<div>\n",
       "<style scoped>\n",
       "    .dataframe tbody tr th:only-of-type {\n",
       "        vertical-align: middle;\n",
       "    }\n",
       "\n",
       "    .dataframe tbody tr th {\n",
       "        vertical-align: top;\n",
       "    }\n",
       "\n",
       "    .dataframe thead th {\n",
       "        text-align: right;\n",
       "    }\n",
       "</style>\n",
       "<table border=\"1\" class=\"dataframe\">\n",
       "  <thead>\n",
       "    <tr style=\"text-align: right;\">\n",
       "      <th></th>\n",
       "      <th>U-val</th>\n",
       "      <th>alternative</th>\n",
       "      <th>p-val</th>\n",
       "      <th>RBC</th>\n",
       "      <th>CLES</th>\n",
       "    </tr>\n",
       "  </thead>\n",
       "  <tbody>\n",
       "    <tr>\n",
       "      <th>MWU</th>\n",
       "      <td>5034.5</td>\n",
       "      <td>two-sided</td>\n",
       "      <td>1.549430e-07</td>\n",
       "      <td>-0.473368</td>\n",
       "      <td>0.736684</td>\n",
       "    </tr>\n",
       "  </tbody>\n",
       "</table>\n",
       "</div>"
      ],
      "text/plain": [
       "      U-val alternative         p-val       RBC      CLES\n",
       "MWU  5034.5   two-sided  1.549430e-07 -0.473368  0.736684"
      ]
     },
     "execution_count": 81,
     "metadata": {},
     "output_type": "execute_result"
    }
   ],
   "source": [
    "pg.mwu(arpu_test.query('revenue > 0')['revenue'],\n",
    "       arpu_control_2.query('revenue > 0')['revenue'])"
   ]
  },
  {
   "cell_type": "markdown",
   "metadata": {},
   "source": [
    "Несмотря на то, что конверсии в тестовой и контрольных группах статистически не различаются, платящие пользователи из тестовой группы приносят значимо больше выручки. Это говорит о том, что новая цена может быть эффективнее с точки зрения монетизации активных пользователей, даже при неизменной доле платящих.\n",
    "\n",
    "Изначально был использован тест Манна–Уитни, который показал статистическую значимость разницы в ARPPU\n",
    "\n",
    "Однако этот тест сравнивает распределения, а не средние значения, и не подходит для метрик вроде ARPU/ARPPU\n",
    "\n",
    "После перехода на bootstrap, выяснилось, что значимая разница в ARPPU есть только между тестовой и второй контрольной группой\n",
    "\n",
    "Таким образом, выводы изменились: лишь одна контрольная группа (control_2) демонстрирует статистически значимое отставание от теста\n",
    "\n",
    "Это подчёркивает важность выбора корректного статистического критерия.\n"
   ]
  },
  {
   "cell_type": "markdown",
   "metadata": {},
   "source": [
    "### Финальный вывод\n",
    "\n",
    "Изменение цены не повлияло на конверсию — доля пользователей, оформивших премиум, в тестовой группе осталась такой же, как в контрольных\n",
    "\n",
    "ARPU (выручка на одного пользователя) также не изменился статистически значимо\n",
    "\n",
    "Зато ARPPU (выручка на одного платящего) в тесте оказался выше, чем во второй контрольной группе, что говорит об эффекте на тех, кто всё же оформил подписку\n",
    "\n",
    "Вывод: новая цена не увеличила число покупок, но позволила получить больше выручки с каждого платящего"
   ]
  }
 ],
 "metadata": {
  "kernelspec": {
   "display_name": "Python 3",
   "language": "python",
   "name": "python3"
  },
  "language_info": {
   "codemirror_mode": {
    "name": "ipython",
    "version": 3
   },
   "file_extension": ".py",
   "mimetype": "text/x-python",
   "name": "python",
   "nbconvert_exporter": "python",
   "pygments_lexer": "ipython3",
   "version": "3.7.3"
  }
 },
 "nbformat": 4,
 "nbformat_minor": 4
}
